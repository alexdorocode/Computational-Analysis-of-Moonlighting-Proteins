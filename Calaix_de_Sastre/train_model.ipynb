{
 "cells": [
  {
   "cell_type": "code",
   "execution_count": null,
   "metadata": {},
   "outputs": [],
   "source": [
    "import numpy as np\n",
    "import torch\n",
    "\n",
    "prott5_embeddings = np.load(\"prott5_embeddings.npy\", allow_pickle=True).item()\n",
    "amino_acid_sequences = prott5_embeddings[\"amino_acid_sequence\"]\n",
    "embeddings = prott5_embeddings[\"embedding\"]\n",
    "\n",
    "# Load attention weights\n",
    "attention_weights_np = np.load(\"prott5_attention_weights.npy\", allow_pickle=True)\n",
    "\n",
    "# Convert back to torch tensors if needed\n",
    "prott5_attention_weights = [torch.tensor(attn) for attn in attention_weights_np]"
   ]
  }
 ],
 "metadata": {
  "kernelspec": {
   "display_name": "prot_env",
   "language": "python",
   "name": "python3"
  },
  "language_info": {
   "codemirror_mode": {
    "name": "ipython",
    "version": 3
   },
   "file_extension": ".py",
   "mimetype": "text/x-python",
   "name": "python",
   "nbconvert_exporter": "python",
   "pygments_lexer": "ipython3",
   "version": "3.9.21"
  }
 },
 "nbformat": 4,
 "nbformat_minor": 2
}
