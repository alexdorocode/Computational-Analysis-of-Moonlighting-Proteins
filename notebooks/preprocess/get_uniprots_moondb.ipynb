{
 "cells": [
  {
   "cell_type": "code",
   "execution_count": 16,
   "metadata": {},
   "outputs": [],
   "source": [
    "import os\n",
    "import pandas as pd\n",
    "\n",
    "SAVE_PATH = \"../../datasets/\"\n",
    "\n",
    "# Ensure the save path exists\n",
    "os.makedirs(SAVE_PATH, exist_ok=True)\n",
    "\n",
    "df_moondb_dataset = pd.read_csv(\"../../datasets/moondb_dataset.csv\")\n",
    "df_moonprot_dataset = pd.read_csv(\"../../datasets/moonprot_dataset.csv\")"
   ]
  },
  {
   "cell_type": "code",
   "execution_count": 3,
   "metadata": {},
   "outputs": [
    {
     "name": "stdout",
     "output_type": "stream",
     "text": [
      "\n",
      "\n",
      "MoonDB dataset:\n",
      "----------------------------------------\n",
      "Index(['UniProt IDs', 'PDB ID', 'Gene Name', 'Protein Name',\n",
      "       'Amino Acid Sequence', 'Organism Name', 'Status', 'Protein Existence',\n",
      "       'GO BP Terms', 'GO CC Terms', 'GO MF Terms'],\n",
      "      dtype='object')\n",
      "----------------------------------------\n",
      "\n",
      "MoonProt dataset:\n",
      "Index(['UniProt IDs', 'PDB ID', 'Gene Name', 'Protein Name',\n",
      "       'Amino Acid Sequence', 'Organism Name', 'Status', 'Protein Existence',\n",
      "       'GO BP Terms', 'GO CC Terms', 'GO MF Terms'],\n",
      "      dtype='object')\n"
     ]
    }
   ],
   "source": [
    "print(\"\\n\\nMoonDB dataset:\")\n",
    "print('--'*20)\n",
    "print(df_moondb_dataset.columns)\n",
    "print('--'*20)\n",
    "print(\"\\nMoonProt dataset:\")\n",
    "print(df_moonprot_dataset.columns)"
   ]
  },
  {
   "cell_type": "code",
   "execution_count": 4,
   "metadata": {},
   "outputs": [],
   "source": [
    "# Uniprot IDs\n",
    "uniprot_ids_moondb = set(df_moondb_dataset[\"UniProt IDs\"])\n",
    "uniprot_ids_moonprot = set(df_moonprot_dataset[\"UniProt IDs\"])\n",
    "\n",
    "# Save the Uniprot IDs as csv files\n",
    "df_uniprot_ids_moondb = pd.DataFrame(uniprot_ids_moondb, columns=[\"UniProt IDs\"])\n",
    "df_uniprot_ids_moonprot = pd.DataFrame(uniprot_ids_moonprot, columns=[\"UniProt IDs\"])\n",
    "\n",
    "# Save the Uniprot IDs\n",
    "df_uniprot_ids_moondb.to_csv(SAVE_PATH + \"uniprot_ids_moondb.csv\", index=False)\n",
    "df_uniprot_ids_moonprot.to_csv(SAVE_PATH + \"uniprot_ids_moonprot.csv\", index=False)"
   ]
  },
  {
   "cell_type": "code",
   "execution_count": 5,
   "metadata": {},
   "outputs": [],
   "source": [
    "# Load main dataset\n",
    "df = pd.read_csv(SAVE_PATH + \"predictor_dataset.csv\")"
   ]
  },
  {
   "cell_type": "code",
   "execution_count": 14,
   "metadata": {},
   "outputs": [
    {
     "name": "stdout",
     "output_type": "stream",
     "text": [
      "\n",
      "MoonDB proteins:\n",
      "Total proteins: 315\n",
      "Number of True values: 310\n",
      "Number of False values: 5\n",
      "\n",
      "MoonProt proteins:\n",
      "Total proteins: 288\n",
      "Number of True values: 280\n",
      "Number of False values: 8\n",
      "\n",
      "Non-MoonDB Non-MoonProt proteins:\n",
      "Total proteins: 688\n",
      "Number of True values: 0\n",
      "Number of False values: 688\n"
     ]
    }
   ],
   "source": [
    "# MoonDB proteins\n",
    "df_moondb = df[df[\"UniProt IDs\"].isin(uniprot_ids_moondb)]\n",
    "print(\"\\nMoonDB proteins:\")\n",
    "print(f\"Total proteins: {df_moondb.shape[0]}\")\n",
    "print(f\"Number of True values: {df_moondb['Class'].value_counts().get(True, 0)}\")\n",
    "print(f\"Number of False values: {df_moondb['Class'].value_counts().get(False, 0)}\")\n",
    "\n",
    "# MoonProt proteins\n",
    "df_moonprot = df[df[\"UniProt IDs\"].isin(uniprot_ids_moonprot)]\n",
    "print(\"\\nMoonProt proteins:\")\n",
    "print(f\"Total proteins: {df_moonprot.shape[0]}\")\n",
    "print(f\"Number of True values: {df_moonprot['Class'].value_counts().get(True, 0)}\")\n",
    "print(f\"Number of False values: {df_moonprot['Class'].value_counts().get(False, 0)}\")\n",
    "\n",
    "# Non-MoonDB Non-MoonProt proteins\n",
    "df_non_moondb_moonprot = df[~df[\"UniProt IDs\"].isin(uniprot_ids_moondb)]\n",
    "df_non_moondb_moonprot = df_non_moondb_moonprot[~df_non_moondb_moonprot[\"UniProt IDs\"].isin(uniprot_ids_moonprot)]\n",
    "print(\"\\nNon-MoonDB Non-MoonProt proteins:\")\n",
    "print(f\"Total proteins: {df_non_moondb_moonprot.shape[0]}\")\n",
    "print(f\"Number of True values: {df_non_moondb_moonprot['Class'].value_counts().get(True, 0)}\")\n",
    "print(f\"Number of False values: {df_non_moondb_moonprot['Class'].value_counts().get(False, 0)}\")"
   ]
  },
  {
   "cell_type": "code",
   "execution_count": 9,
   "metadata": {},
   "outputs": [
    {
     "name": "stdout",
     "output_type": "stream",
     "text": [
      "\n",
      "Number of moonlight proteins:\n",
      "Class\n",
      "False    700\n",
      "True     561\n",
      "Name: count, dtype: int64\n"
     ]
    }
   ],
   "source": [
    "# Number of moonlight proteins\n",
    "print(\"\\nNumber of moonlight proteins:\")\n",
    "print(df[\"Class\"].value_counts())"
   ]
  },
  {
   "cell_type": "code",
   "execution_count": null,
   "metadata": {},
   "outputs": [],
   "source": [
    "# Strategy 1: Fully Balanced\n",
    "def strategy_fully_balanced(df_moondb, df_moonprot, df_non_moondb, save_path):\n",
    "    train_true = df_moondb[df_moondb['Class'] == True].sample(n=310, random_state=42)\n",
    "    train_false = df_non_moondb[df_non_moondb['Class'] == False].sample(n=310, random_state=42)\n",
    "    train = pd.concat([train_true, train_false])\n",
    "\n",
    "    test_true = df_moonprot[df_moonprot['Class'] == True].sample(n=280, random_state=42)\n",
    "    test_false = df_non_moondb[df_non_moondb['Class'] == False].sample(n=280, random_state=42)\n",
    "    test = pd.concat([test_true, test_false])\n",
    "\n",
    "    train.to_csv(os.path.join(save_path, \"strategy1_train.csv\"), index=False)\n",
    "    test.to_csv(os.path.join(save_path, \"strategy1_test.csv\"), index=False)"
   ]
  },
  {
   "cell_type": "code",
   "execution_count": null,
   "metadata": {},
   "outputs": [],
   "source": [
    "# Strategy 2: Realistic Proportions\n",
    "def strategy_realistic_proportions(df_moondb, df_moonprot, df_non_moondb, save_path):\n",
    "    train_true = df_moondb[df_moondb['Class'] == True]\n",
    "    train_false = pd.concat([\n",
    "        df_moondb[df_moondb['Class'] == False],\n",
    "        df_non_moondb[df_non_moondb['Class'] == False].sample(n=305, random_state=42)\n",
    "    ])\n",
    "    train = pd.concat([train_true, train_false])\n",
    "\n",
    "    test_true = df_moonprot[df_moonprot['Class'] == True]\n",
    "    test_false = df_moonprot[df_moonprot['Class'] == False]\n",
    "    test = pd.concat([test_true, test_false])\n",
    "\n",
    "    train.to_csv(os.path.join(save_path, \"strategy2_train.csv\"), index=False)\n",
    "    test.to_csv(os.path.join(save_path, \"strategy2_test.csv\"), index=False)\n"
   ]
  },
  {
   "cell_type": "code",
   "execution_count": null,
   "metadata": {},
   "outputs": [],
   "source": [
    "# Strategy 3: Balanced Training, Imbalanced Testing\n",
    "def strategy_balanced_training_imbalanced_testing(df_moondb, df_moonprot, df_non_moondb, save_path):\n",
    "    train_true = df_moondb[df_moondb['Class'] == True].sample(n=280, random_state=42)\n",
    "    train_false = df_non_moondb[df_non_moondb['Class'] == False].sample(n=280, random_state=42)\n",
    "    train = pd.concat([train_true, train_false])\n",
    "\n",
    "    test_true = df_moonprot[df_moonprot['Class'] == True]\n",
    "    test_false = df_moonprot[df_moonprot['Class'] == False]\n",
    "    test = pd.concat([test_true, test_false])\n",
    "\n",
    "    train.to_csv(os.path.join(save_path, \"strategy3_train.csv\"), index=False)\n",
    "    test.to_csv(os.path.join(save_path, \"strategy3_test.csv\"), index=False)"
   ]
  },
  {
   "cell_type": "code",
   "execution_count": 17,
   "metadata": {},
   "outputs": [],
   "source": [
    "# Strategy 4: Cross-Domain Generalization\n",
    "def strategy_cross_domain_generalization(df_moondb, df_moonprot, save_path):\n",
    "    train = df_moondb\n",
    "    test = df_moonprot\n",
    "\n",
    "    train.to_csv(os.path.join(save_path, \"strategy4_train.csv\"), index=False)\n",
    "    test.to_csv(os.path.join(save_path, \"strategy4_test.csv\"), index=False)"
   ]
  },
  {
   "cell_type": "code",
   "execution_count": 18,
   "metadata": {},
   "outputs": [],
   "source": [
    "# Strategy 5: Use All Positives, Vary Negatives\n",
    "def strategy_use_all_positives_vary_negatives(df_moondb, df_moonprot, df_non_moondb, save_path):\n",
    "    train_true = pd.concat([\n",
    "        df_moondb[df_moondb['Class'] == True],\n",
    "        df_moonprot[df_moonprot['Class'] == True]\n",
    "    ])\n",
    "    train_false = df_non_moondb[df_non_moondb['Class'] == False].sample(n=len(train_true), random_state=42)\n",
    "    train = pd.concat([train_true, train_false])\n",
    "\n",
    "    test = df_non_moondb[df_non_moondb['Class'] == False]\n",
    "\n",
    "    train.to_csv(os.path.join(save_path, \"strategy5_train.csv\"), index=False)\n",
    "    test.to_csv(os.path.join(save_path, \"strategy5_test.csv\"), index=False)"
   ]
  },
  {
   "cell_type": "code",
   "execution_count": null,
   "metadata": {},
   "outputs": [],
   "source": [
    "# FER BUCK UPP!!!!!!!!!!!!!!!!"
   ]
  },
  {
   "cell_type": "code",
   "execution_count": null,
   "metadata": {},
   "outputs": [],
   "source": []
  }
 ],
 "metadata": {
  "kernelspec": {
   "display_name": "prot_env",
   "language": "python",
   "name": "python3"
  },
  "language_info": {
   "codemirror_mode": {
    "name": "ipython",
    "version": 3
   },
   "file_extension": ".py",
   "mimetype": "text/x-python",
   "name": "python",
   "nbconvert_exporter": "python",
   "pygments_lexer": "ipython3",
   "version": "3.9.21"
  }
 },
 "nbformat": 4,
 "nbformat_minor": 2
}
