{
  "cells": [
    {
      "cell_type": "markdown",
      "metadata": {
        "id": "92jLX4Y3GoRO"
      },
      "source": [
        "# **Análisis de distancias semánticas entre términos GO de Proteínas Moonlighting**\n",
        "Este notebook explora las distancias semánticas entre términos GO asociados con proteínas moonlighting. Calcularemos el promedio y el máximo de las distancias semánticas entre pares de términos GO dentro de las categorías de Cellular Component (CC), Molecular Function (MF) y Biological Process (BP) para cada proteína.\n"
      ]
    },
    {
      "cell_type": "markdown",
      "metadata": {
        "id": "ecXHtU9eWp2k"
      },
      "source": [
        "## Montaje de Google Drive\n",
        "Montamos Google Drive para acceder y guardar archivos directamente desde este entorno.\n"
      ]
    },
    {
      "cell_type": "code",
      "execution_count": null,
      "metadata": {
        "colab": {
          "base_uri": "https://localhost:8080/"
        },
        "id": "IPPQpZ4eva_t",
        "outputId": "427bbee2-9729-4d2e-f357-dc346b739e88"
      },
      "outputs": [
        {
          "name": "stdout",
          "output_type": "stream",
          "text": [
            "Mounted at /content/drive\n"
          ]
        }
      ],
      "source": [
        "from google.colab import drive\n",
        "drive.mount('/content/drive')"
      ]
    },
    {
      "cell_type": "markdown",
      "metadata": {
        "id": "xFxFnVMzWxSG"
      },
      "source": [
        "## Preparación del entorno de análisis\n",
        "Cargamos el conjunto de datos de proteínas moonlighting para realizar nuestro análisis."
      ]
    },
    {
      "cell_type": "code",
      "execution_count": null,
      "metadata": {
        "id": "5wcJNkguBxXl"
      },
      "outputs": [],
      "source": [
        "import pandas as pd\n",
        "\n",
        "moonlights_metrics = pd.read_csv('/content/drive/My Drive/moon_metrics_v2.csv')\n",
        "moonlights_metrics.columns = moonlights_metrics.columns.str.strip()"
      ]
    },
    {
      "cell_type": "code",
      "execution_count": null,
      "metadata": {
        "colab": {
          "base_uri": "https://localhost:8080/"
        },
        "id": "YmcKb9eB3zff",
        "outputId": "91c75703-bcdb-4d50-e580-00cf90ea3d01"
      },
      "outputs": [
        {
          "data": {
            "text/plain": [
              "Index(['proteinentry', 'accessioncode', 'organism', 'go_term1', 'go_category1',\n",
              "       'go_description1', 'evidence1', 'go_term2', 'go_category2',\n",
              "       'go_description2', 'evidence2', 'resnikdistance',\n",
              "       'minimumbranchlength'],\n",
              "      dtype='object')"
            ]
          },
          "execution_count": 3,
          "metadata": {},
          "output_type": "execute_result"
        }
      ],
      "source": [
        "# Visualizamos las columnas del dataset.\n",
        "moonlights_metrics.columns"
      ]
    },
    {
      "cell_type": "markdown",
      "metadata": {
        "id": "VjnCisqWHE61"
      },
      "source": [
        "## Definición de funciones para el cálculo de estadísticas\n",
        "Definimos una función que calculará el promedio y el máximo de la distancia semántica entre términos GO. Además, esta función identificará los pares de términos GO que presentan la mayor distancia semántica dentro de cada categoría para cada proteína.\n"
      ]
    },
    {
      "cell_type": "code",
      "execution_count": null,
      "metadata": {
        "id": "gUwGpa6Wmvuy"
      },
      "outputs": [],
      "source": [
        "def calculate_stats_and_unique_pairs(group):\n",
        "    avg_mbl = group['minimumbranchlength'].mean()\n",
        "    max_mbl = group['minimumbranchlength'].max()\n",
        "\n",
        "    # Identificamos y extraemos los pares de términos con distancia máxima, evitando duplicados.\n",
        "    max_pairs = group[group['minimumbranchlength'] == max_mbl][['go_term1', 'go_term2']].drop_duplicates()\n",
        "    max_pairs_list = max_pairs.apply(lambda x: (x['go_term1'], x['go_term2']), axis=1).tolist()\n",
        "\n",
        "    return pd.Series({\n",
        "        'Avg_MBL': avg_mbl,\n",
        "        'Max_MBL': max_mbl,\n",
        "        'GO_Pairs_Max_MBL': max_pairs_list\n",
        "    })"
      ]
    },
    {
      "cell_type": "markdown",
      "metadata": {
        "id": "pM9R2fiXHb3L"
      },
      "source": [
        "## Cálculo y combinación de estadísticas por categoría\n",
        "Agrupamos los datos por 'accesioncode' (UniProt ID) y por categoría de término GO para calcular las estadísticas de distancia semántica.\n"
      ]
    },
    {
      "cell_type": "code",
      "execution_count": null,
      "metadata": {
        "id": "Po4wDJ4WnWj7"
      },
      "outputs": [],
      "source": [
        "results_category1 = moonlights_metrics.groupby(['accessioncode', 'go_category1']).apply(calculate_stats_and_unique_pairs).rename_axis(['UniProt IDs', 'Category']).reset_index()\n",
        "results_category2 = moonlights_metrics.groupby(['accessioncode', 'go_category2']).apply(calculate_stats_and_unique_pairs).rename_axis(['Uniprot IDs', 'Category']).reset_index()\n",
        "\n",
        "# Combinamos ambos resultados obtenidos utilizando pd.concat.\n",
        "results = pd.concat([results_category1, results_category2])"
      ]
    },
    {
      "cell_type": "markdown",
      "metadata": {
        "id": "8piWR055nq3p"
      },
      "source": [
        "## Consolidación de pares y cálculo de estadísticas finales\n",
        "Unificamos los pares de términos GO para evitar duplicados y calculamos estadísticas consolidadas para cada proteína y cada categoría de término GO.\n"
      ]
    },
    {
      "cell_type": "code",
      "execution_count": null,
      "metadata": {
        "colab": {
          "base_uri": "https://localhost:8080/"
        },
        "id": "7_YBi7j2n6_g",
        "outputId": "e45ad704-c4c4-4710-b12d-a0716f65de2f"
      },
      "outputs": [
        {
          "name": "stdout",
          "output_type": "stream",
          "text": [
            "     UniProt IDs Category    Avg_MBL  Max_MBL  \\\n",
            "0     A0A0H3LHU4        C   2.000000        2   \n",
            "1     A0A0H3LHU4        F   8.071429       14   \n",
            "2     A0A1D8PFS4        C   6.666667        9   \n",
            "3     A0A4Y1WAR4        C   2.000000        2   \n",
            "4     A0A4Y1WAR4        F  10.000000       10   \n",
            "...          ...      ...        ...      ...   \n",
            "1426      Q9Z0E3        C   4.600000        7   \n",
            "1427      Q9Z0E3        P  13.285714       19   \n",
            "1428      Q9ZVD5        C   6.000000        9   \n",
            "1429      Q9ZVD5        F   8.166667       12   \n",
            "1430      Q9ZVD5        P  14.250000       21   \n",
            "\n",
            "                                       GO_Pairs_Max_MBL  \n",
            "0                            [(GO:0005576, GO:0005829)]  \n",
            "1     [(GO:0004356, GO:0005525), (GO:0004356, GO:001...  \n",
            "2                            [(GO:0005777, GO:0062040)]  \n",
            "3     [(GO:0005615, GO:0009986), (GO:0005829, GO:000...  \n",
            "4                            [(GO:0002020, GO:0004365)]  \n",
            "...                                                 ...  \n",
            "1426  [(GO:0001674, GO:0005737), (GO:0001673, GO:001...  \n",
            "1427  [(GO:0006366, GO:0045944), (GO:0006366, GO:003...  \n",
            "1428                         [(GO:0000791, GO:0005730)]  \n",
            "1429  [(GO:0004521, GO:0035198), (GO:0004521, GO:003...  \n",
            "1430                         [(GO:0030422, GO:0080188)]  \n",
            "\n",
            "[1431 rows x 5 columns]\n"
          ]
        }
      ],
      "source": [
        "def consolidate_pairs(pairs_list):\n",
        "    unique_pairs = set()\n",
        "    for pairs in pairs_list:\n",
        "        unique_pairs.update(pairs)\n",
        "    return list(unique_pairs)\n",
        "\n",
        "final_results = results.groupby(['UniProt IDs', 'Category']).agg({\n",
        "    'Avg_MBL': 'mean',\n",
        "    'Max_MBL': 'max',\n",
        "    'GO_Pairs_Max_MBL': lambda x: consolidate_pairs(x)\n",
        "}).reset_index()\n",
        "\n",
        "# Visualizamos los resultados finales consolidados para cada categoría y proteína.\n",
        "print(final_results)"
      ]
    },
    {
      "cell_type": "markdown",
      "metadata": {
        "id": "SpUDWDd8wtlh"
      },
      "source": [
        "## Filtrado y visualización de resultados por categoría\n",
        "Filtramos y visualizamos los resultados finales para cada categoría de término GO (CC, MF, BP)."
      ]
    },
    {
      "cell_type": "code",
      "execution_count": null,
      "metadata": {
        "colab": {
          "base_uri": "https://localhost:8080/"
        },
        "id": "TWDmZUA4Nnof",
        "outputId": "c14005b1-c497-45ef-ac4c-30694a37ca24"
      },
      "outputs": [
        {
          "name": "stdout",
          "output_type": "stream",
          "text": [
            "Resultados para Categoría C:\n",
            "      UniProt IDs Category   Avg_MBL  Max_MBL  \\\n",
            "0     A0A0H3LHU4        C  2.000000        2   \n",
            "2     A0A1D8PFS4        C  6.666667        9   \n",
            "3     A0A4Y1WAR4        C  2.000000        2   \n",
            "6         A5D8V6        C  9.000000        9   \n",
            "9         B9PW35        C  2.000000        2   \n",
            "...          ...      ...       ...      ...   \n",
            "1420      Q9Y6Q9        C  4.066667        8   \n",
            "1423      Q9Y6X0        C  2.000000        2   \n",
            "1424      Q9Y7F0        C  4.600000        8   \n",
            "1426      Q9Z0E3        C  4.600000        7   \n",
            "1428      Q9ZVD5        C  6.000000        9   \n",
            "\n",
            "                                       GO_Pairs_Max_MBL  \n",
            "0                            [(GO:0005576, GO:0005829)]  \n",
            "2                            [(GO:0005777, GO:0062040)]  \n",
            "3     [(GO:0005615, GO:0009986), (GO:0005829, GO:000...  \n",
            "6                            [(GO:0000813, GO:0010008)]  \n",
            "9                            [(GO:0005615, GO:0090651)]  \n",
            "...                                                 ...  \n",
            "1420                         [(GO:0000785, GO:0005634)]  \n",
            "1423  [(GO:0005654, GO:0016604), (GO:0005829, GO:001...  \n",
            "1424                         [(GO:0005634, GO:0030446)]  \n",
            "1426  [(GO:0001674, GO:0005737), (GO:0001673, GO:001...  \n",
            "1428                         [(GO:0000791, GO:0005730)]  \n",
            "\n",
            "[484 rows x 5 columns]\n",
            "\n",
            "Resultados para Categoría F:\n",
            "      UniProt IDs Category    Avg_MBL  Max_MBL  \\\n",
            "1     A0A0H3LHU4        F   8.071429       14   \n",
            "4     A0A4Y1WAR4        F  10.000000       10   \n",
            "10        B9PW35        F  10.000000       10   \n",
            "12        B9VJ59        F   7.500000       11   \n",
            "14        E9Q401        F   7.888889       17   \n",
            "...          ...      ...        ...      ...   \n",
            "1409      Q9Y2X8        F   1.000000        1   \n",
            "1414      Q9Y4K3        F   7.904762       14   \n",
            "1418      Q9Y6K9        F   4.622222        8   \n",
            "1421      Q9Y6Q9        F   9.000000       15   \n",
            "1429      Q9ZVD5        F   8.166667       12   \n",
            "\n",
            "                                       GO_Pairs_Max_MBL  \n",
            "1     [(GO:0004356, GO:0005525), (GO:0004356, GO:001...  \n",
            "4                            [(GO:0002020, GO:0004365)]  \n",
            "10                           [(GO:0004332, GO:0051015)]  \n",
            "12                           [(GO:0004308, GO:0031406)]  \n",
            "14                           [(GO:0005219, GO:0019901)]  \n",
            "...                                                 ...  \n",
            "1409                         [(GO:0004842, GO:0061631)]  \n",
            "1414                         [(GO:0034450, GO:0043422)]  \n",
            "1418  [(GO:0031625, GO:0035591), (GO:0035591, GO:007...  \n",
            "1421                         [(GO:0004402, GO:0016922)]  \n",
            "1429  [(GO:0004521, GO:0035198), (GO:0004521, GO:003...  \n",
            "\n",
            "[428 rows x 5 columns]\n",
            "\n",
            "Resultados para Categoría P:\n",
            "      UniProt IDs Category    Avg_MBL  Max_MBL  \\\n",
            "5     A0A4Y1WAR4        P  14.000000       14   \n",
            "7         A5D8V6        P  10.000000       11   \n",
            "8         A8KC60        P   9.500000       14   \n",
            "11        B9PW35        P   9.200000       16   \n",
            "15        E9Q401        P  12.157895       19   \n",
            "...          ...      ...        ...      ...   \n",
            "1419      Q9Y6K9        P  10.704762       18   \n",
            "1422      Q9Y6Q9        P  12.666667       16   \n",
            "1425      Q9Y7F0        P   7.500000       12   \n",
            "1427      Q9Z0E3        P  13.285714       19   \n",
            "1430      Q9ZVD5        P  14.250000       21   \n",
            "\n",
            "                                       GO_Pairs_Max_MBL  \n",
            "5                            [(GO:0006006, GO:0044416)]  \n",
            "7     [(GO:0016236, GO:0036258), (GO:0036258, GO:003...  \n",
            "8                            [(GO:0001569, GO:1903670)]  \n",
            "11    [(GO:0030388, GO:2001171), (GO:0044650, GO:200...  \n",
            "15                           [(GO:0003220, GO:0014808)]  \n",
            "...                                                 ...  \n",
            "1419                         [(GO:0045087, GO:0051092)]  \n",
            "1422                         [(GO:0045944, GO:0071392)]  \n",
            "1425                         [(GO:0031505, GO:0036170)]  \n",
            "1427  [(GO:0006366, GO:0045944), (GO:0006366, GO:003...  \n",
            "1430                         [(GO:0030422, GO:0080188)]  \n",
            "\n",
            "[519 rows x 5 columns]\n"
          ]
        }
      ],
      "source": [
        "moon_results_C = final_results[final_results['Category'] == 'C']\n",
        "moon_results_F = final_results[final_results['Category'] == 'F']\n",
        "moon_results_P = final_results[final_results['Category'] == 'P']\n",
        "\n",
        "# Visualizamos los resultados filtrados por categorías.\n",
        "print(\"Resultados para Categoría C:\\n\", moon_results_C)\n",
        "print(\"\\nResultados para Categoría F:\\n\", moon_results_F)\n",
        "print(\"\\nResultados para Categoría P:\\n\", moon_results_P)"
      ]
    },
    {
      "cell_type": "markdown",
      "metadata": {
        "id": "m2Lh9k9vHsdD"
      },
      "source": [
        "## Preparación del índice y combinación de resultados\n",
        "Preparamos un índice usando `moon_dataset.csv`, que incluye todas las proteínas moonlighting bajo estudio. Añadimos columnas específicas que almacenan la distancia semántica máxima entre pares de términos GO para las categorías CC y MF, así como los pares que presentan estas distancias máximas.\n"
      ]
    },
    {
      "cell_type": "code",
      "execution_count": null,
      "metadata": {
        "colab": {
          "base_uri": "https://localhost:8080/"
        },
        "id": "AAjggx0qNL7p",
        "outputId": "55ca74a1-a0bf-4ecf-b89b-88ca7ece15e5"
      },
      "outputs": [
        {
          "name": "stdout",
          "output_type": "stream",
          "text": [
            "    UniProt IDs                                             PDB ID  \\\n",
            "0        Q9CW03                                         2WD5; 7DG5   \n",
            "1        Q43155                                                NaN   \n",
            "2        P30041                                   1PRX; 5B6M; 5B6N   \n",
            "3        P06745  1U0E; 1U0F; 1U0G; 2CVP; 2CXN; 2CXO; 2CXP; 2CXQ...   \n",
            "4        P10809  4PJ1; 6HT7; 6MRC; 6MRD; 7AZP; 7L7S; 8G7J; 8G7K...   \n",
            "..          ...                                                ...   \n",
            "764      Q22289                                                NaN   \n",
            "765      O17670                                                NaN   \n",
            "766      P55853                                               5XQM   \n",
            "767      Q9VCD5                                                NaN   \n",
            "768      P48601                                                NaN   \n",
            "\n",
            "                                             Gene Name  \\\n",
            "0    {'Name': 'Smc3', 'Synonyms': ['Bam', 'Bmh', 'C...   \n",
            "1    {'Name': 'FdGOGAT {ECO:0000305}', 'ORFNames': ...   \n",
            "2    {'Name': 'PRDX6', 'Synonyms': ['AOP2', 'KIAA01...   \n",
            "3    {'Name': 'Gpi {ECO:0000303|PubMed:7545951}', '...   \n",
            "4             {'Name': 'HSPD1', 'Synonyms': ['HSP60']}   \n",
            "..                                                 ...   \n",
            "764         {'Name': 'tbx-9', 'ORFNames': ['T07C4.6']}   \n",
            "765  {'Name': 'eya-1 {ECO:0000303|PubMed:16154558, ...   \n",
            "766  {'Name': 'smo-1 {ECO:0000312|WormBase:K12C11.2...   \n",
            "767  {'Name': 'Dmel\\\\CG10694 {ECO:0000313|EMBL:AAF5...   \n",
            "768  {'Name': 'Rpt2', 'Synonyms': ['P26s4', 'Pros26...   \n",
            "\n",
            "                                          Protein Name  \\\n",
            "0      Structural maintenance of chromosomes protein 3   \n",
            "1    Ferredoxin-dependent glutamate synthase, chlor...   \n",
            "2                                      Peroxiredoxin-6   \n",
            "3    Glucose-6-phosphate isomerase {ECO:0000303|Pub...   \n",
            "4             60 kDa heat shock protein, mitochondrial   \n",
            "..                                                 ...   \n",
            "764                   T-box transcription factor tbx-9   \n",
            "765  Eyes absent homolog 1 {ECO:0000255|RuleBase:RU...   \n",
            "766                   Small ubiquitin-related modifier   \n",
            "767  UV excision repair protein RAD23 {ECO:0000256|...   \n",
            "768                26S proteasome regulatory subunit 4   \n",
            "\n",
            "                                   Amino Acid Sequence  \\\n",
            "0    MYIKQVIIQGFRSYRDQTIVDPFSSKHNVIVGRNGSGKSNFFYAIQ...   \n",
            "1    MALQSAPKLLYSSPSPSVFSANERRVAFSDFVGLSKKRSRRRRIAG...   \n",
            "2    MPGGLLLGDVAPNFEANTTVGRIRFHDFLGDSWGILFSHPRDFTPV...   \n",
            "3    MAALTRNPQFQKLLEWHRANSANLKLRELFEADPERFNNFSLNLNT...   \n",
            "4    MLRLPTVFRQMRPVSRVLAPHLTRAYAKDVKFGADARALMLQGVDL...   \n",
            "..                                                 ...   \n",
            "764  MSKVKVSIEGSQETLWKIFHAEVNEMIVTKNGRKLFPKLEYIVEGL...   \n",
            "765  MLPDSEGQKLKTFLLGTGTTLDPSLDPTGNSNFSMATTSDSSTIWT...   \n",
            "766  MADDAAQAGDNAEYIKIKVVGQDSNEVHFRVKYGTSMAKLKKSYAD...   \n",
            "767  MKLSIRMLDQRTITLEMNESQEVRALKQKLGNLPEVAMPAENLQLI...   \n",
            "768  MGQNQSAQGGAGEKKDDKDKKKKYEPPIPTRVGKKKRRAKGPDAAM...   \n",
            "\n",
            "                            Organism Name      Status  Protein Existence  \\\n",
            "0                   Mus musculus (Mouse).    Reviewed                1.0   \n",
            "1            Spinacia oleracea (Spinach).    Reviewed                1.0   \n",
            "2                   Homo sapiens (Human).    Reviewed                1.0   \n",
            "3                   Mus musculus (Mouse).    Reviewed                1.0   \n",
            "4                   Homo sapiens (Human).    Reviewed                1.0   \n",
            "..                                    ...         ...                ...   \n",
            "764               Caenorhabditis elegans.    Reviewed                2.0   \n",
            "765               Caenorhabditis elegans.    Reviewed                1.0   \n",
            "766               Caenorhabditis elegans.    Reviewed                1.0   \n",
            "767  Drosophila melanogaster (Fruit fly).  Unreviewed                2.0   \n",
            "768  Drosophila melanogaster (Fruit fly).    Reviewed                1.0   \n",
            "\n",
            "                                           GO BP Terms  \\\n",
            "0    GO:0051301 - cell division; GO:0006281 - DNA r...   \n",
            "1    GO:0006541 - glutamine metabolic process; GO:0...   \n",
            "2    GO:0045454 - cell redox homeostasis; GO:009886...   \n",
            "3    GO:0061621 - canonical glycolysis; GO:0034101 ...   \n",
            "4    GO:0006458 - 'de novo' protein folding; GO:000...   \n",
            "..                                                 ...   \n",
            "764  GO:0001708 - cell fate specification; GO:00101...   \n",
            "765  GO:0048856 - anatomical structure development;...   \n",
            "766  GO:0009792 - embryo development ending in birt...   \n",
            "767  GO:0006289 - nucleotide-excision repair; GO:00...   \n",
            "768  GO:0043161 - proteasome-mediated ubiquitin-dep...   \n",
            "\n",
            "                                           GO CC Terms  \\\n",
            "0    GO:0005604 - basement membrane; GO:0000785 - c...   \n",
            "1                      GO:0009570 - chloroplast stroma   \n",
            "2    GO:0035578 - azurophil granule lumen; GO:00057...   \n",
            "3    GO:0060170 - ciliary membrane; GO:0005829 - cy...   \n",
            "4    GO:0009986 - cell surface; GO:0005905 - clathr...   \n",
            "..                                                 ...   \n",
            "764  GO:0005634 - nucleus; GO:0005667 - transcripti...   \n",
            "765                               GO:0005634 - nucleus   \n",
            "766  GO:0005813 - centrosome; GO:0005694 - chromoso...   \n",
            "767     GO:0005829 - cytosol; GO:0005654 - nucleoplasm   \n",
            "768  GO:0005829 - cytosol; GO:0005654 - nucleoplasm...   \n",
            "\n",
            "                                           GO MF Terms  Max_MBL_CC  \\\n",
            "0    GO:0005524 - ATP binding; GO:0016887 - ATP hyd...         8.0   \n",
            "1    GO:0051538 - 3 iron, 4 sulfur cluster binding;...         0.0   \n",
            "2    GO:0047184 - 1-acylglycerophosphocholine O-acy...        10.0   \n",
            "3    GO:0097367 - carbohydrate derivative binding; ...         5.0   \n",
            "4    GO:0034186 - apolipoprotein A-I binding; GO:00...        11.0   \n",
            "..                                                 ...         ...   \n",
            "764  GO:0003677 - DNA binding; GO:0003700 - DNA-bin...         0.0   \n",
            "765  GO:0046872 - metal ion binding; GO:0004725 - p...         0.0   \n",
            "766  GO:0042802 - identical protein binding; GO:003...         0.0   \n",
            "767  GO:0003684 - damaged DNA binding; GO:0031593 -...         0.0   \n",
            "768  GO:0005524 - ATP binding; GO:0016887 - ATP hyd...         4.0   \n",
            "\n",
            "                                      CC_Pairs_Max_MBL  Max_MBL_MF  \\\n",
            "0                           [(GO:0005634, GO:0030893)]         2.0   \n",
            "1                                              No data         8.0   \n",
            "2                           [(GO:0005634, GO:0035578)]        12.0   \n",
            "3                           [(GO:0005829, GO:0060170)]         0.0   \n",
            "4    [(GO:0005769, GO:0046696), (GO:0005759, GO:000...         8.0   \n",
            "..                                                 ...         ...   \n",
            "764                                            No data         0.0   \n",
            "765                                            No data         0.0   \n",
            "766                                            No data         0.0   \n",
            "767                                            No data         0.0   \n",
            "768  [(GO:0005654, GO:0008540), (GO:0005829, GO:000...         0.0   \n",
            "\n",
            "                                      MF_Pairs_Max_MBL  \n",
            "0                           [(GO:0003682, GO:0036033)]  \n",
            "1                           [(GO:0016041, GO:0019899)]  \n",
            "2                           [(GO:0031625, GO:0047499)]  \n",
            "3                                              No data  \n",
            "4    [(GO:0003725, GO:0031625), (GO:0008035, GO:003...  \n",
            "..                                                 ...  \n",
            "764                                            No data  \n",
            "765                                            No data  \n",
            "766                                            No data  \n",
            "767                                            No data  \n",
            "768                                            No data  \n",
            "\n",
            "[769 rows x 15 columns]\n"
          ]
        }
      ],
      "source": [
        "# Cargamos nuestro dataset.\n",
        "moon_dataset = pd.read_csv(\"/content/drive/My Drive/moon_dataset.csv\")\n",
        "\n",
        "# Combinamos los DataFrames results_C y results_F con moon_dataset utilizando la columna 'UniProt IDs',\n",
        "# e incorporamos las distancias mínimas de rama máximas y los pares de términos GO correspondientes.\n",
        "moon_dataset.set_index('UniProt IDs', inplace=True)\n",
        "moon_results_C.set_index('UniProt IDs', inplace=True)\n",
        "moon_results_F.set_index('UniProt IDs', inplace=True)\n",
        "\n",
        "final_dataset = moon_dataset.join([\n",
        "    moon_results_C[['Max_MBL', 'GO_Pairs_Max_MBL']].rename(columns={\n",
        "        'Max_MBL': 'Max_MBL_CC',\n",
        "        'GO_Pairs_Max_MBL': 'CC_Pairs_Max_MBL'\n",
        "    }),\n",
        "    moon_results_F[['Max_MBL', 'GO_Pairs_Max_MBL']].rename(columns={\n",
        "        'Max_MBL': 'Max_MBL_MF',\n",
        "        'GO_Pairs_Max_MBL': 'MF_Pairs_Max_MBL'\n",
        "    })\n",
        "], how='left')  # Combinamos utilizando 'left' para mantener todas las entradas de moon_dataset.\n",
        "\n",
        "# Asignamos un valor predeterminado de 0 a las columnas de distancia máxima donde no existen datos.\n",
        "final_dataset['Max_MBL_CC'].fillna(0, inplace=True)\n",
        "final_dataset['Max_MBL_MF'].fillna(0, inplace=True)\n",
        "\n",
        "# Asignamos un valor predeterminado 'No data' a las columnas que detallan los pares de términos GO\n",
        "# cuando no existen datos disponibles.\n",
        "final_dataset['CC_Pairs_Max_MBL'].fillna('No data', inplace=True)\n",
        "final_dataset['MF_Pairs_Max_MBL'].fillna('No data', inplace=True)\n",
        "\n",
        "# Reseteamos el índice para convertir 'UniProt IDs' en una columna regular del DataFrame.\n",
        "final_dataset.reset_index(inplace=True)\n",
        "\n",
        "# Visualizamos los resultados obtenidos.\n",
        "print(final_dataset)"
      ]
    },
    {
      "cell_type": "markdown",
      "metadata": {
        "id": "I7CR0UsrQ4bm"
      },
      "source": [
        "## Comparación y filtrado de distancias semánticas máximas. Reordenación del conjunto de datos.\n",
        "\n",
        "Determinamos cuál de las distancias semánticas máximas (CC o MF) es mayor para cada proteína y almacenamos este valor mayor en una nueva columna 'Max_Semantic_Distance'. Posteriormente, eliminamos las entradas que no contienen información relevante y ordenamos los resultados para facilitar su interpretación."
      ]
    },
    {
      "cell_type": "code",
      "execution_count": null,
      "metadata": {
        "colab": {
          "base_uri": "https://localhost:8080/"
        },
        "id": "MgqJhYV1Qaqi",
        "outputId": "c51e5158-ece2-4816-bf87-b9ea5b35b845"
      },
      "outputs": [
        {
          "name": "stdout",
          "output_type": "stream",
          "text": [
            "    UniProt IDs                                             PDB ID  \\\n",
            "402      P09169                                               1I78   \n",
            "601      Q9Y2X8                                                NaN   \n",
            "519      Q05086  1C4Z; 1D5F; 1EQX; 2KR1; 4GIZ; 4XR8; 6SJV; 6SLM...   \n",
            "526      Q9Y6X0                                                NaN   \n",
            "758      Q8BH75                                               2OGB   \n",
            "..          ...                                                ...   \n",
            "757      E9Q401  2MC2; 3IM5; 3IM6; 3IM7; 3QR5; 4ETV; 4KEI; 4KEJ...   \n",
            "194      P68187  1Q12; 1Q1B; 1Q1E; 2AWN; 2AWO; 2R6G; 3FH6; 3GD7...   \n",
            "606      Q09472  1L3E; 1P4Q; 2K8F; 2MH0; 2MZD; 3BIY; 3I3J; 3IO2...   \n",
            "239      P13569  1XMI; 1XMJ; 2BBO; 2BBS; 2BBT; 2LOB; 2PZE; 2PZF...   \n",
            "138      P15336                       1BHI; 1T2K; 4H36; 6ZQS; 6ZR5   \n",
            "\n",
            "                                             Gene Name  \\\n",
            "402  {'Name': 'ompT', 'OrderedLocusNames': ['b0565'...   \n",
            "601         {'Name': 'UBE2D4', 'Synonyms': ['UBCH5D']}   \n",
            "519  {'Name': 'UBE3A {ECO:0000312|HGNC:HGNC:12496}'...   \n",
            "526       {'Name': 'SETBP1', 'Synonyms': ['KIAA0437']}   \n",
            "758   {'Name': 'Rnf41', 'Synonyms': ['Flrf', 'Nrdp1']}   \n",
            "..                                                 ...   \n",
            "757       {'Name': 'Ryr2 {ECO:0000312|MGI:MGI:99685}'}   \n",
            "194  {'Name': 'malK {ECO:0000255|HAMAP-Rule:MF_0170...   \n",
            "606  {'Name': 'EP300 {ECO:0000303|PubMed:15706485, ...   \n",
            "239            {'Name': 'CFTR', 'Synonyms': ['ABCC7']}   \n",
            "138  {'Name': 'ATF2', 'Synonyms': ['CREB2', 'CREBP1']}   \n",
            "\n",
            "                                          Protein Name  \\\n",
            "402                                         Protease 7   \n",
            "601                 Ubiquitin-conjugating enzyme E2 D4   \n",
            "519                       Ubiquitin-protein ligase E3A   \n",
            "526                                SET-binding protein   \n",
            "758                  E3 ubiquitin-protein ligase NRDP1   \n",
            "..                                                 ...   \n",
            "757  Ryanodine receptor 2 {ECO:0000305|PubMed:10473...   \n",
            "194  Maltose/maltodextrin import ATP-binding protei...   \n",
            "606       Histone acetyltransferase p300 {ECO:0000305}   \n",
            "239  Cystic fibrosis transmembrane conductance regu...   \n",
            "138    Cyclic AMP-dependent transcription factor ATF-2   \n",
            "\n",
            "                                   Amino Acid Sequence  \\\n",
            "402  MRAKLLGIVLTTPIAISSFASTETLSFTPDNINADISLGTLSGKTK...   \n",
            "601  MALKRIQKELTDLQRDPPAQCSAGPVGDDLFHWQATIMGPNDSPYQ...   \n",
            "519  MEKLHQCYWKSGEPQSDDIEASRMKRAAAKHLIERYYHQLTEGCGN...   \n",
            "526  MESRETLSSSRQRGGESDFLPVSSAKPPAAPGCAGEPLLSTPGPGK...   \n",
            "758  MGYDVTRFQGDVDEDLICPICSGVLEEPVQAPHCEHAFCNACITQW...   \n",
            "..                                                 ...   \n",
            "757  MADAGEGEDEIQFLRTDDEVVLQCTATIHKEQQKLCLAAEGFGNRL...   \n",
            "194  MASVQLQNVTKAWGEVVVSKDINLDIHEGEFVVFVGPSGCGKSTLL...   \n",
            "606  MAENVVEPGPPSAKRPKLSSPALSASASDGTDFGSLFDLEHDLPDE...   \n",
            "239  MQRSPLEKASVVSKLFFSWTRPILRKGYRQRLELSDIYQIPSVDSA...   \n",
            "138  MKFKLHVNSARQYKDLWNMSDDKPFLCTAPGCGQRFTNEDHLAVHK...   \n",
            "\n",
            "                      Organism Name    Status  Protein Existence  \\\n",
            "402  Escherichia coli (strain K12).  Reviewed                1.0   \n",
            "601           Homo sapiens (Human).  Reviewed                1.0   \n",
            "519           Homo sapiens (Human).  Reviewed                1.0   \n",
            "526           Homo sapiens (Human).  Reviewed                1.0   \n",
            "758           Mus musculus (Mouse).  Reviewed                1.0   \n",
            "..                              ...       ...                ...   \n",
            "757           Mus musculus (Mouse).  Reviewed                1.0   \n",
            "194  Escherichia coli (strain K12).  Reviewed                1.0   \n",
            "606           Homo sapiens (Human).  Reviewed                1.0   \n",
            "239           Homo sapiens (Human).  Reviewed                1.0   \n",
            "138           Homo sapiens (Human).  Reviewed                1.0   \n",
            "\n",
            "                                           GO BP Terms  \\\n",
            "402                           GO:0006508 - proteolysis   \n",
            "601  GO:0070979 - protein K11-linked ubiquitination...   \n",
            "519  GO:0030521 - androgen receptor signaling pathw...   \n",
            "526  GO:0006355 - regulation of DNA-templated trans...   \n",
            "758  GO:0006914 - autophagy; GO:0097191 - extrinsic...   \n",
            "..                                                 ...   \n",
            "757  GO:0097553 - calcium ion transmembrane import ...   \n",
            "194  GO:0042956 - maltodextrin transmembrane transp...   \n",
            "606  GO:0009887 - animal organ morphogenesis; GO:00...   \n",
            "239  GO:0097186 - amelogenesis; GO:0015701 - bicarb...   \n",
            "138  GO:0021742 - abducens nucleus development; GO:...   \n",
            "\n",
            "                                           GO CC Terms  \\\n",
            "402                   GO:0009279 - cell outer membrane   \n",
            "601  GO:0005634 - nucleus; GO:0000151 - ubiquitin l...   \n",
            "519  GO:0005829 - cytosol; GO:0098978 - glutamaterg...   \n",
            "526  GO:0005829 - cytosol; GO:0016604 - nuclear bod...   \n",
            "758  GO:0071782 - endoplasmic reticulum tubular net...   \n",
            "..                                                 ...   \n",
            "757  GO:0031672 - A band; GO:0034704 - calcium chan...   \n",
            "194  GO:0043190 - ATP-binding cassette (ABC) transp...   \n",
            "606  GO:0000785 - chromatin; GO:0005737 - cytoplasm...   \n",
            "239  GO:0016324 - apical plasma membrane; GO:000998...   \n",
            "138  GO:0000785 - chromatin; GO:0005737 - cytoplasm...   \n",
            "\n",
            "                                           GO MF Terms  Max_MBL_CC  \\\n",
            "402  GO:0004190 - aspartic-type endopeptidase activ...         0.0   \n",
            "601  GO:0005524 - ATP binding; GO:0061631 - ubiquit...         0.0   \n",
            "519  GO:0046872 - metal ion binding; GO:0003713 - t...         0.0   \n",
            "526  GO:0003677 - DNA binding; GO:0042800 - histone...         2.0   \n",
            "758  GO:0005128 - erythropoietin receptor binding; ...         0.0   \n",
            "..                                                 ...         ...   \n",
            "757  GO:0005262 - calcium channel activity; GO:0005...        12.0   \n",
            "194  GO:0015423 - ABC-type maltose transporter acti...         8.0   \n",
            "606  GO:0140033 - acetylation-dependent protein bin...         8.0   \n",
            "239  GO:0140359 - ABC-type transporter activity; GO...        14.0   \n",
            "138  GO:0035497 - cAMP response element binding; GO...        13.0   \n",
            "\n",
            "                                      CC_Pairs_Max_MBL  Max_MBL_MF  \\\n",
            "402                                            No data         1.0   \n",
            "601                                            No data         1.0   \n",
            "519                                            No data         1.0   \n",
            "526  [(GO:0005654, GO:0016604), (GO:0005829, GO:001...         0.0   \n",
            "758                                            No data         2.0   \n",
            "..                                                 ...         ...   \n",
            "757  [(GO:0016529, GO:0034704), (GO:0005790, GO:003...        17.0   \n",
            "194  [(GO:0016020, GO:1990060), (GO:0016020, GO:199...        17.0   \n",
            "606                         [(GO:0000785, GO:0005634)]        18.0   \n",
            "239  [(GO:0030669, GO:0055037), (GO:0005769, GO:003...        18.0   \n",
            "138                         [(GO:0005741, GO:1902562)]        20.0   \n",
            "\n",
            "                                      MF_Pairs_Max_MBL  Highest_MBL  \n",
            "402                         [(GO:0004175, GO:0004252)]          1.0  \n",
            "601                         [(GO:0004842, GO:0061631)]          1.0  \n",
            "519                         [(GO:0004842, GO:0061630)]          1.0  \n",
            "526                                            No data          2.0  \n",
            "758                         [(GO:0005128, GO:0005135)]          2.0  \n",
            "..                                                 ...          ...  \n",
            "757                         [(GO:0005219, GO:0019901)]         17.0  \n",
            "194                         [(GO:0005524, GO:0015423)]         17.0  \n",
            "606  [(GO:0044017, GO:0050681), (GO:0050681, GO:014...         18.0  \n",
            "239                         [(GO:0005260, GO:0005524)]         18.0  \n",
            "138  [(GO:0010485, GO:0035497), (GO:0035497, GO:004...         20.0  \n",
            "\n",
            "[561 rows x 16 columns]\n"
          ]
        }
      ],
      "source": [
        "final_dataset['Highest_MBL'] = final_dataset[['Max_MBL_CC', 'Max_MBL_MF']].max(axis=1)\n",
        "\n",
        "# Definimos las condiciones para identificar y eliminar filas que no contienen datos relevantes.\n",
        "condiciones = (\n",
        "    (final_dataset['Max_MBL_CC'] == 0) &\n",
        "    (final_dataset['CC_Pairs_Max_MBL'] == 'No data') &\n",
        "    (final_dataset['Max_MBL_MF'] == 0) &\n",
        "    (final_dataset['MF_Pairs_Max_MBL'] == 'No data')\n",
        ")\n",
        "\n",
        "# Filtramos el DataFrame para eliminar las filas que cumplen todas las condiciones especificadas anteriormente.\n",
        "final_dataset_filtered = final_dataset[~condiciones]\n",
        "\n",
        "# Ordenamos los resultados de manera ascendente según el valor de 'Max_Semantic_Distance'.\n",
        "sorted_final_dataset = final_dataset_filtered.sort_values('Highest_MBL')\n",
        "\n",
        "# Visualizamos los resultados obtenidos.\n",
        "print(sorted_final_dataset)"
      ]
    },
    {
      "cell_type": "markdown",
      "metadata": {
        "id": "uiXXdlNSF4G6"
      },
      "source": [
        "## Etiquetado y almacenamiento de los resultados finales\n",
        "Añadimos una nueva columna 'Class', asignando valor 'True' a todas las entradas para reflejar que todas las proteínas del conjunto de datos son multifuncionales. Finalmente, guardamos los resultados en un archivo CSV, que será objeto de futuros análisis.\n"
      ]
    },
    {
      "cell_type": "code",
      "execution_count": null,
      "metadata": {
        "colab": {
          "base_uri": "https://localhost:8080/"
        },
        "id": "aFAsY5URxOrx",
        "outputId": "502ecf2d-83cd-4ff1-a0be-3c20c237faf9"
      },
      "outputs": [
        {
          "name": "stdout",
          "output_type": "stream",
          "text": [
            "    UniProt IDs                                             PDB ID  \\\n",
            "402      P09169                                               1I78   \n",
            "601      Q9Y2X8                                                NaN   \n",
            "519      Q05086  1C4Z; 1D5F; 1EQX; 2KR1; 4GIZ; 4XR8; 6SJV; 6SLM...   \n",
            "526      Q9Y6X0                                                NaN   \n",
            "758      Q8BH75                                               2OGB   \n",
            "\n",
            "                                             Gene Name  \\\n",
            "402  {'Name': 'ompT', 'OrderedLocusNames': ['b0565'...   \n",
            "601         {'Name': 'UBE2D4', 'Synonyms': ['UBCH5D']}   \n",
            "519  {'Name': 'UBE3A {ECO:0000312|HGNC:HGNC:12496}'...   \n",
            "526       {'Name': 'SETBP1', 'Synonyms': ['KIAA0437']}   \n",
            "758   {'Name': 'Rnf41', 'Synonyms': ['Flrf', 'Nrdp1']}   \n",
            "\n",
            "                           Protein Name  \\\n",
            "402                          Protease 7   \n",
            "601  Ubiquitin-conjugating enzyme E2 D4   \n",
            "519        Ubiquitin-protein ligase E3A   \n",
            "526                 SET-binding protein   \n",
            "758   E3 ubiquitin-protein ligase NRDP1   \n",
            "\n",
            "                                   Amino Acid Sequence  \\\n",
            "402  MRAKLLGIVLTTPIAISSFASTETLSFTPDNINADISLGTLSGKTK...   \n",
            "601  MALKRIQKELTDLQRDPPAQCSAGPVGDDLFHWQATIMGPNDSPYQ...   \n",
            "519  MEKLHQCYWKSGEPQSDDIEASRMKRAAAKHLIERYYHQLTEGCGN...   \n",
            "526  MESRETLSSSRQRGGESDFLPVSSAKPPAAPGCAGEPLLSTPGPGK...   \n",
            "758  MGYDVTRFQGDVDEDLICPICSGVLEEPVQAPHCEHAFCNACITQW...   \n",
            "\n",
            "                      Organism Name    Status  Protein Existence  \\\n",
            "402  Escherichia coli (strain K12).  Reviewed                1.0   \n",
            "601           Homo sapiens (Human).  Reviewed                1.0   \n",
            "519           Homo sapiens (Human).  Reviewed                1.0   \n",
            "526           Homo sapiens (Human).  Reviewed                1.0   \n",
            "758           Mus musculus (Mouse).  Reviewed                1.0   \n",
            "\n",
            "                                           GO BP Terms  \\\n",
            "402                           GO:0006508 - proteolysis   \n",
            "601  GO:0070979 - protein K11-linked ubiquitination...   \n",
            "519  GO:0030521 - androgen receptor signaling pathw...   \n",
            "526  GO:0006355 - regulation of DNA-templated trans...   \n",
            "758  GO:0006914 - autophagy; GO:0097191 - extrinsic...   \n",
            "\n",
            "                                           GO CC Terms  \\\n",
            "402                   GO:0009279 - cell outer membrane   \n",
            "601  GO:0005634 - nucleus; GO:0000151 - ubiquitin l...   \n",
            "519  GO:0005829 - cytosol; GO:0098978 - glutamaterg...   \n",
            "526  GO:0005829 - cytosol; GO:0016604 - nuclear bod...   \n",
            "758  GO:0071782 - endoplasmic reticulum tubular net...   \n",
            "\n",
            "                                           GO MF Terms  Max_MBL_CC  \\\n",
            "402  GO:0004190 - aspartic-type endopeptidase activ...         0.0   \n",
            "601  GO:0005524 - ATP binding; GO:0061631 - ubiquit...         0.0   \n",
            "519  GO:0046872 - metal ion binding; GO:0003713 - t...         0.0   \n",
            "526  GO:0003677 - DNA binding; GO:0042800 - histone...         2.0   \n",
            "758  GO:0005128 - erythropoietin receptor binding; ...         0.0   \n",
            "\n",
            "                                      CC_Pairs_Max_MBL  Max_MBL_MF  \\\n",
            "402                                            No data         1.0   \n",
            "601                                            No data         1.0   \n",
            "519                                            No data         1.0   \n",
            "526  [(GO:0005654, GO:0016604), (GO:0005829, GO:001...         0.0   \n",
            "758                                            No data         2.0   \n",
            "\n",
            "               MF_Pairs_Max_MBL  Highest_MBL  Class  \n",
            "402  [(GO:0004175, GO:0004252)]          1.0   True  \n",
            "601  [(GO:0004842, GO:0061631)]          1.0   True  \n",
            "519  [(GO:0004842, GO:0061630)]          1.0   True  \n",
            "526                     No data          2.0   True  \n",
            "758  [(GO:0005128, GO:0005135)]          2.0   True  \n"
          ]
        }
      ],
      "source": [
        "# Añadimos la columna 'Class'.\n",
        "sorted_final_dataset['Class'] = True\n",
        "\n",
        "# Guardamos el DataFrame resultante.\n",
        "sorted_final_dataset.to_csv('/content/drive/My Drive/moon_stats_dataset.csv', index=False)\n",
        "\n",
        "# Visualizamos los primeros registros del nuevo DataFrame.\n",
        "print(sorted_final_dataset.head())"
      ]
    }
  ],
  "metadata": {
    "colab": {
      "provenance": []
    },
    "kernelspec": {
      "display_name": "Python 3",
      "name": "python3"
    },
    "language_info": {
      "name": "python"
    }
  },
  "nbformat": 4,
  "nbformat_minor": 0
}
