{
 "cells": [
  {
   "cell_type": "code",
   "execution_count": 1,
   "metadata": {},
   "outputs": [],
   "source": [
    "import numpy as np\n",
    "import pandas as pd\n",
    "from project_root.dataset.protein_dataset import ProteinDataset\n",
    "\n",
    "# -------------------------------\n",
    "# 🔧 Create dummy input data\n",
    "# -------------------------------\n",
    "\n",
    "# Simulated UniProt IDs\n",
    "ids = [f\"P{i:05d}\" for i in range(10)]\n",
    "\n",
    "# Create dummy DataFrame\n",
    "df = pd.DataFrame({\n",
    "    \"UniProt IDs\": ids,\n",
    "    \"Class\": np.random.randint(0, 2, size=10),\n",
    "    \"Max_MBL_CC\": np.random.rand(10)  # An extra attribute\n",
    "})"
   ]
  },
  {
   "cell_type": "code",
   "execution_count": 2,
   "metadata": {},
   "outputs": [
    {
     "name": "stdout",
     "output_type": "stream",
     "text": [
      "Checking consistency...\n",
      " - DataFrame IDs: 10\n",
      " - Embeddings IDs: 10\n",
      " - Attention Weights IDs: 10\n",
      "Consistency checked.\n",
      "\n",
      "ProteinDataset Report:\n",
      " - Number of samples: 10\n",
      " - Number of embeddings: 10\n",
      " - Number of attention weights: 10\n",
      " - Target column: Class\n",
      " - ID column: UniProt IDs\n",
      " - Save path: ./OUTPUTS/\n",
      "\n"
     ]
    }
   ],
   "source": [
    "# Create matching dummy embeddings and attention weights\n",
    "embedding_dim = 128\n",
    "attention_shape = (12, 128)\n",
    "\n",
    "embeddings = {id_: np.random.rand(embedding_dim) for id_ in ids}\n",
    "attention_weights = {id_: np.random.rand(*attention_shape) for id_ in ids}\n",
    "\n",
    "# -------------------------------\n",
    "# ✅ Initialize ProteinDataset\n",
    "# -------------------------------\n",
    "\n",
    "protein_dataset = ProteinDataset(df, embeddings, attention_weights, solve_inconsistencies=True)\n"
   ]
  },
  {
   "cell_type": "code",
   "execution_count": 3,
   "metadata": {},
   "outputs": [
    {
     "name": "stdout",
     "output_type": "stream",
     "text": [
      "✅ Length of dataset: 10\n",
      "✅ First sample (shapes):\n",
      "  - Embedding shape: torch.Size([128])\n",
      "  - Attention shape: torch.Size([12, 128])\n",
      "  - Label: 0.0\n",
      "\n",
      "✅ Number of embeddings returned: 10\n",
      "✅ Number of attention weights returned: 10\n",
      "✅ Number of labels returned: 10\n",
      "✅ Number of IDs returned: 10\n",
      "\n",
      "✅ Attribute Max_MBL_CC (first 3 values): [0.44961639965113553, 0.6675381100406788, 0.9472766640067233]\n"
     ]
    }
   ],
   "source": [
    "# -------------------------------\n",
    "# 🔍 Test accessors\n",
    "# -------------------------------\n",
    "\n",
    "print(\"✅ Length of dataset:\", len(protein_dataset))\n",
    "print(\"✅ First sample (shapes):\")\n",
    "(sample_emb, sample_attn), label = protein_dataset[0]\n",
    "print(\"  - Embedding shape:\", sample_emb.shape)\n",
    "print(\"  - Attention shape:\", sample_attn.shape)\n",
    "print(\"  - Label:\", label.item())\n",
    "\n",
    "# Test getters\n",
    "print(\"\\n✅ Number of embeddings returned:\", len(protein_dataset.get_embeddings()))\n",
    "print(\"✅ Number of attention weights returned:\", len(protein_dataset.get_attention_weights()))\n",
    "print(\"✅ Number of labels returned:\", len(protein_dataset.get_labels()))\n",
    "print(\"✅ Number of IDs returned:\", len(protein_dataset.get_ids()))\n",
    "\n",
    "# Test attribute access\n",
    "print(\"\\n✅ Attribute Max_MBL_CC (first 3 values):\", protein_dataset.get_attribute(\"Max_MBL_CC\")[:3])"
   ]
  }
 ],
 "metadata": {
  "kernelspec": {
   "display_name": "prot_env",
   "language": "python",
   "name": "python3"
  },
  "language_info": {
   "codemirror_mode": {
    "name": "ipython",
    "version": 3
   },
   "file_extension": ".py",
   "mimetype": "text/x-python",
   "name": "python",
   "nbconvert_exporter": "python",
   "pygments_lexer": "ipython3",
   "version": "3.9.21"
  }
 },
 "nbformat": 4,
 "nbformat_minor": 2
}
