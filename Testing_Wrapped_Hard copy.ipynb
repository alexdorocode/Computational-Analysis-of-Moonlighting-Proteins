{
 "cells": [
  {
   "cell_type": "code",
   "execution_count": 1,
   "metadata": {},
   "outputs": [
    {
     "name": "stdout",
     "output_type": "stream",
     "text": [
      "OMP_NUM_THREADS: None\n",
      "MKL_NUM_THREADS: 12\n",
      "NUMEXPR_NUM_THREADS: 12\n",
      "VECLIB_MAXIMUM_THREADS: 12\n",
      "OPENBLAS_NUM_THREADS: 12\n",
      "BLIS_NUM_THREADS: 12\n"
     ]
    }
   ],
   "source": [
    "import os\n",
    "\n",
    "# Limit the number of threads for various libraries\n",
    "os.environ[\"MKL_NUM_THREADS\"] = \"12\"  # For MKL (used by NumPy)\n",
    "os.environ[\"NUMEXPR_NUM_THREADS\"] = \"12\"  # For NumExpr\n",
    "os.environ[\"VECLIB_MAXIMUM_THREADS\"] = \"12\"  # For macOS Accelerate\n",
    "os.environ[\"OPENBLAS_NUM_THREADS\"] = \"12\"  # For OpenBLAS\n",
    "os.environ[\"BLIS_NUM_THREADS\"] = \"12\"  # For BLIS\n",
    "\n",
    "# Print environment variables to verify\n",
    "print(\"OMP_NUM_THREADS:\", os.environ.get(\"OMP_NUM_THREADS\"))\n",
    "print(\"MKL_NUM_THREADS:\", os.environ.get(\"MKL_NUM_THREADS\"))\n",
    "print(\"NUMEXPR_NUM_THREADS:\", os.environ.get(\"NUMEXPR_NUM_THREADS\"))\n",
    "print(\"VECLIB_MAXIMUM_THREADS:\", os.environ.get(\"VECLIB_MAXIMUM_THREADS\"))\n",
    "print(\"OPENBLAS_NUM_THREADS:\", os.environ.get(\"OPENBLAS_NUM_THREADS\"))\n",
    "print(\"BLIS_NUM_THREADS:\", os.environ.get(\"BLIS_NUM_THREADS\"))\n",
    "\n",
    "# Set PyTorch threads\n",
    "import torch\n",
    "torch.set_num_threads(18)\n",
    "torch.set_num_interop_threads(18)"
   ]
  },
  {
   "cell_type": "code",
   "execution_count": 2,
   "metadata": {},
   "outputs": [
    {
     "name": "stdout",
     "output_type": "stream",
     "text": [
      "Checking consistency...\n",
      "Warning: 12 duplicate IDs found in dataframe.\n",
      "Removing duplicate entries...\n",
      " - DataFrame IDs: 1249\n",
      " - Embeddings IDs: 1219\n",
      " - Attention Weights IDs: 1219\n",
      "Warning: Inconsistencies found between dataframe, embeddings, and attention_weights.\n",
      "Resolving inconsistencies. Keeping 1219 common samples.\n",
      "Consistency checked.\n",
      "\n",
      "ProteinDataset Report:\n",
      " - Number of samples: 1219\n",
      " - Number of embeddings: 1219\n",
      " - Number of attention weights: 1219\n",
      " - Target column: Class\n",
      " - ID column: UniProt IDs\n",
      " - Save path: ./OUTPUTS/\n",
      "\n"
     ]
    }
   ],
   "source": [
    "# WrappedProteinDataset & PCAExplainability - Usage Demo\n",
    "# ======================================================\n",
    "# This notebook demonstrates how to use WrappedProteinDataset and PCAExplainability\n",
    "# to perform dimensionality reduction and interpret protein embedding data.\n",
    "\n",
    "import numpy as np\n",
    "import pandas as pd\n",
    "from sklearn.decomposition import PCA\n",
    "\n",
    "from project_root.dataset.dataset_loader import DatasetLoader\n",
    "from project_root.dataset.protein_dataset import ProteinDataset\n",
    "from project_root.dataset.wrapped_protein_dataset import WrappedProteinDataset\n",
    "from project_root.explainability.pca_explainability import PCAExplainability\n",
    "\n",
    "# ------------------------------------------------------\n",
    "# 📥 1. Load Dataset and Embeddings\n",
    "# ------------------------------------------------------\n",
    "\n",
    "# Define data path\n",
    "path_dataset_folder = \"../DATASETS/\"\n",
    "\n",
    "# Load data\n",
    "loader = DatasetLoader(path_dataset_folder)\n",
    "df = loader.load_dataframe()\n",
    "embeddings, attention_weights = loader.load_embeddings_and_attention()\n",
    "\n",
    "# Create ProteinDataset instance\n",
    "protein_dataset = ProteinDataset(df, embeddings, attention_weights, solve_inconsistencies=True)"
   ]
  },
  {
   "cell_type": "code",
   "execution_count": 3,
   "metadata": {},
   "outputs": [
    {
     "name": "stdout",
     "output_type": "stream",
     "text": [
      "ProteinDataset:\n",
      "Print ids length: 1219\n",
      "Print levels length: 1219\n",
      "Print embeddings shape: 1219\n",
      "Print attention weights shape: 1219\n"
     ]
    }
   ],
   "source": [
    "print(\"ProteinDataset:\")\n",
    "print(f\"Print ids length: {len(protein_dataset.ids)}\")\n",
    "print(f\"Print levels length: {len(protein_dataset.labels)}\")\n",
    "print(f\"Print embeddings shape: {len(protein_dataset.embeddings)}\")\n",
    "print(f\"Print attention weights shape: {len(protein_dataset.attention_weights)}\")"
   ]
  },
  {
   "cell_type": "code",
   "execution_count": 4,
   "metadata": {},
   "outputs": [
    {
     "name": "stdout",
     "output_type": "stream",
     "text": [
      "  UniProt IDs                                             PDB ID  \\\n",
      "1      Q9Y2X8                                                NaN   \n",
      "2      Q05086  1C4Z; 1D5F; 1EQX; 2KR1; 4GIZ; 4XR8; 6SJV; 6SLM...   \n",
      "3      Q9Y6X0                                                NaN   \n",
      "4      Q8BH75                                               2OGB   \n",
      "5      Q04120                                   5DVB; 5EPT; 6UTL   \n",
      "\n",
      "                                           Gene Name  \\\n",
      "1         {'Name': 'UBE2D4', 'Synonyms': ['UBCH5D']}   \n",
      "2  {'Name': 'UBE3A {ECO:0000312|HGNC:HGNC:12496}'...   \n",
      "3       {'Name': 'SETBP1', 'Synonyms': ['KIAA0437']}   \n",
      "4   {'Name': 'Rnf41', 'Synonyms': ['Flrf', 'Nrdp1']}   \n",
      "5  {'Name': 'TSA2 {ECO:0000303|PubMed:11741925}',...   \n",
      "\n",
      "                         Protein Name  \\\n",
      "1  Ubiquitin-conjugating enzyme E2 D4   \n",
      "2        Ubiquitin-protein ligase E3A   \n",
      "3                 SET-binding protein   \n",
      "4   E3 ubiquitin-protein ligase NRDP1   \n",
      "5    Peroxiredoxin TSA2 {ECO:0000305}   \n",
      "\n",
      "                                 Amino Acid Sequence  \\\n",
      "1  MALKRIQKELTDLQRDPPAQCSAGPVGDDLFHWQATIMGPNDSPYQ...   \n",
      "2  MEKLHQCYWKSGEPQSDDIEASRMKRAAAKHLIERYYHQLTEGCGN...   \n",
      "3  MESRETLSSSRQRGGESDFLPVSSAKPPAAPGCAGEPLLSTPGPGK...   \n",
      "4  MGYDVTRFQGDVDEDLICPICSGVLEEPVQAPHCEHAFCNACITQW...   \n",
      "5  MVAEVQKQAPPFKKTAVVDGIFEEISLEKYKGKYVVLAFVPLAFSF...   \n",
      "\n",
      "                                       Organism Name    Status  \\\n",
      "1                              Homo sapiens (Human).  Reviewed   \n",
      "2                              Homo sapiens (Human).  Reviewed   \n",
      "3                              Homo sapiens (Human).  Reviewed   \n",
      "4                              Mus musculus (Mouse).  Reviewed   \n",
      "5  Saccharomyces cerevisiae (strain ATCC 204508 /...  Reviewed   \n",
      "\n",
      "   Protein Existence                                        GO BP Terms  \\\n",
      "1                1.0  GO:0070979 - protein K11-linked ubiquitination...   \n",
      "2                1.0  GO:0030521 - androgen receptor signaling pathw...   \n",
      "3                1.0  GO:0006355 - regulation of DNA-templated trans...   \n",
      "4                1.0  GO:0006914 - autophagy; GO:0097191 - extrinsic...   \n",
      "5                1.0  GO:0045454 - cell redox homeostasis; GO:003459...   \n",
      "\n",
      "                                         GO CC Terms  \\\n",
      "1  GO:0005634 - nucleus; GO:0000151 - ubiquitin l...   \n",
      "2  GO:0005829 - cytosol; GO:0098978 - glutamaterg...   \n",
      "3  GO:0005829 - cytosol; GO:0016604 - nuclear bod...   \n",
      "4  GO:0071782 - endoplasmic reticulum tubular net...   \n",
      "5       GO:0005737 - cytoplasm; GO:0005829 - cytosol   \n",
      "\n",
      "                                         GO MF Terms  Max_MBL_CC  \\\n",
      "1  GO:0005524 - ATP binding; GO:0061631 - ubiquit...         0.0   \n",
      "2  GO:0046872 - metal ion binding; GO:0003713 - t...         0.0   \n",
      "3  GO:0003677 - DNA binding; GO:0042800 - histone...         2.0   \n",
      "4  GO:0005128 - erythropoietin receptor binding; ...         0.0   \n",
      "5  GO:0051920 - peroxiredoxin activity; GO:000837...         0.0   \n",
      "\n",
      "                                    CC_Pairs_Max_MBL  Max_MBL_MF  \\\n",
      "1                                            No data         1.0   \n",
      "2                                            No data         1.0   \n",
      "3  [('GO:0005654', 'GO:0016604'), ('GO:0005829', ...         0.0   \n",
      "4                                            No data         2.0   \n",
      "5                                            No data         2.0   \n",
      "\n",
      "                 MF_Pairs_Max_MBL  Highest_MBL  Class  \n",
      "1  [('GO:0004842', 'GO:0061631')]          1.0   True  \n",
      "2  [('GO:0004842', 'GO:0061630')]          1.0   True  \n",
      "3                         No data          2.0   True  \n",
      "4  [('GO:0005128', 'GO:0005135')]          2.0   True  \n",
      "5  [('GO:0008379', 'GO:0051920')]          2.0   True  \n"
     ]
    }
   ],
   "source": [
    "print(protein_dataset.dataframe.head())"
   ]
  },
  {
   "cell_type": "code",
   "execution_count": null,
   "metadata": {},
   "outputs": [
    {
     "name": "stdout",
     "output_type": "stream",
     "text": [
      "Converting embeddings and attention weights to NumPy arrays...\n",
      "Applying random projection to reduce attention weights from 6255001 to 800 dimensions...\n"
     ]
    }
   ],
   "source": [
    "# ------------------------------------------------------\n",
    "# 🧪 2. Create WrappedProteinDataset with Configurations\n",
    "# ------------------------------------------------------\n",
    "\n",
    "# ➤ Option A: Use PCA for both embeddings and attention weights\n",
    "dataset_pca = WrappedProteinDataset(\n",
    "    dataset=protein_dataset,\n",
    "    reduce_method='pca',              # or 'tsne'\n",
    "    pca_method='threshold',           # 'threshold', 'derivative', 'custom'\n",
    "    threshold=0.95,\n",
    "    random_projection_dim=800        # Random projection dim before PCA on attention weights\n",
    ")\n",
    "\n",
    "# ➤ Option B: No dimensionality reduction, just flatten + concat\n",
    "dataset_raw = WrappedProteinDataset(\n",
    "    dataset=protein_dataset,\n",
    "    reduce_method=None               # No reduction\n",
    ")\n",
    "\n",
    "# ➤ Option C: Use t-SNE for visual exploration\n",
    "dataset_tsne = WrappedProteinDataset(\n",
    "    dataset=protein_dataset,\n",
    "    reduce_method='tsne'            # Use only for 2D plotting, not for training\n",
    ")"
   ]
  },
  {
   "cell_type": "code",
   "execution_count": null,
   "metadata": {},
   "outputs": [],
   "source": [
    "# ------------------------------------------------------\n",
    "# 📊 3. Apply PCAExplainability on any representation\n",
    "# ------------------------------------------------------\n",
    "\n",
    "# A. On PCA-reduced embeddings\n",
    "pca_embeddings = PCA().fit(dataset_pca.embeddings)\n",
    "PCAExplainability.plot_variance_explained(pca_embeddings, title=\"Embeddings PCA\", threshold=0.95)\n",
    "PCAExplainability.plot_scree(pca_embeddings)\n",
    "PCAExplainability.plot_variance_contribution(pca_embeddings)\n",
    "\n",
    "# B. On PCA-reduced attention weights\n",
    "pca_attn = PCA().fit(dataset_pca.attention_weights)\n",
    "PCAExplainability.plot_variance_explained(pca_attn, title=\"Attention PCA\", threshold=0.95)\n",
    "\n",
    "# C. Feature Importance (optional)\n",
    "# PCAExplainability.plot_feature_importance(pca_embeddings, feature_names=[f\"dim_{i}\" for i in range(dataset_pca.embeddings.shape[1])])"
   ]
  },
  {
   "cell_type": "code",
   "execution_count": null,
   "metadata": {},
   "outputs": [
    {
     "ename": "ValueError",
     "evalue": "array length 1219 does not match index length 1249",
     "output_type": "error",
     "traceback": [
      "\u001b[0;31m---------------------------------------------------------------------------\u001b[0m",
      "\u001b[0;31mValueError\u001b[0m                                Traceback (most recent call last)",
      "Cell \u001b[0;32mIn[5], line 6\u001b[0m\n\u001b[1;32m      1\u001b[0m \u001b[38;5;66;03m# ------------------------------------------------------\u001b[39;00m\n\u001b[1;32m      2\u001b[0m \u001b[38;5;66;03m# 🌀 4. Cluster Visualization Example\u001b[39;00m\n\u001b[1;32m      3\u001b[0m \u001b[38;5;66;03m# ------------------------------------------------------\u001b[39;00m\n\u001b[1;32m      4\u001b[0m \n\u001b[1;32m      5\u001b[0m \u001b[38;5;66;03m# Visualize clustering using KMeans on combined PCA-reduced features\u001b[39;00m\n\u001b[0;32m----> 6\u001b[0m \u001b[43mdataset_pca\u001b[49m\u001b[38;5;241;43m.\u001b[39;49m\u001b[43mplot_kmeans\u001b[49m\u001b[43m(\u001b[49m\u001b[43mn_clusters\u001b[49m\u001b[38;5;241;43m=\u001b[39;49m\u001b[38;5;241;43m2\u001b[39;49m\u001b[43m,\u001b[49m\u001b[43m \u001b[49m\u001b[43mattribute\u001b[49m\u001b[38;5;241;43m=\u001b[39;49m\u001b[38;5;124;43m'\u001b[39;49m\u001b[38;5;124;43mClass\u001b[39;49m\u001b[38;5;124;43m'\u001b[39;49m\u001b[43m,\u001b[49m\u001b[43m \u001b[49m\u001b[43membedding\u001b[49m\u001b[38;5;241;43m=\u001b[39;49m\u001b[38;5;28;43;01mTrue\u001b[39;49;00m\u001b[43m,\u001b[49m\u001b[43m \u001b[49m\u001b[43mattention_weights\u001b[49m\u001b[38;5;241;43m=\u001b[39;49m\u001b[38;5;28;43;01mTrue\u001b[39;49;00m\u001b[43m)\u001b[49m\n\u001b[1;32m      8\u001b[0m \u001b[38;5;66;03m# Visualize clustering on t-SNE-reduced embeddings\u001b[39;00m\n\u001b[1;32m      9\u001b[0m dataset_tsne\u001b[38;5;241m.\u001b[39mplot_kmeans(n_clusters\u001b[38;5;241m=\u001b[39m\u001b[38;5;241m2\u001b[39m, attribute\u001b[38;5;241m=\u001b[39m\u001b[38;5;124m'\u001b[39m\u001b[38;5;124mClass\u001b[39m\u001b[38;5;124m'\u001b[39m, embedding\u001b[38;5;241m=\u001b[39m\u001b[38;5;28;01mTrue\u001b[39;00m, attention_weights\u001b[38;5;241m=\u001b[39m\u001b[38;5;28;01mFalse\u001b[39;00m)\n",
      "File \u001b[0;32m~/Computational-Analysis-of-Moonlighting-Proteins/project_root/dataset/wrapped_protein_dataset.py:70\u001b[0m, in \u001b[0;36mplot_kmeans\u001b[0;34m(self, n_clusters, attribute, embedding, attention_weights)\u001b[0m\n\u001b[1;32m     67\u001b[0m \u001b[38;5;250m\u001b[39m\u001b[38;5;124;03m\"\"\"Apply K-Means clustering and visualize results.\"\"\"\u001b[39;00m\n\u001b[1;32m     69\u001b[0m data \u001b[38;5;241m=\u001b[39m \u001b[38;5;28mself\u001b[39m\u001b[38;5;241m.\u001b[39mselect_data(embedding, attention_weights)\n\u001b[0;32m---> 70\u001b[0m kmeans \u001b[38;5;241m=\u001b[39m KMeans(n_clusters\u001b[38;5;241m=\u001b[39mn_clusters, random_state\u001b[38;5;241m=\u001b[39m\u001b[38;5;241m42\u001b[39m)\u001b[38;5;241m.\u001b[39mfit(data)\n\u001b[1;32m     71\u001b[0m clusters \u001b[38;5;241m=\u001b[39m kmeans\u001b[38;5;241m.\u001b[39mlabels_\n\u001b[1;32m     73\u001b[0m plt\u001b[38;5;241m.\u001b[39mfigure(figsize\u001b[38;5;241m=\u001b[39m(\u001b[38;5;241m16\u001b[39m, \u001b[38;5;241m10\u001b[39m))\n",
      "File \u001b[0;32m~/software/miniconda3/envs/prot_env/lib/python3.9/site-packages/seaborn/relational.py:615\u001b[0m, in \u001b[0;36mscatterplot\u001b[0;34m(data, x, y, hue, size, style, palette, hue_order, hue_norm, sizes, size_order, size_norm, markers, style_order, legend, ax, **kwargs)\u001b[0m\n\u001b[1;32m    606\u001b[0m \u001b[38;5;28;01mdef\u001b[39;00m\u001b[38;5;250m \u001b[39m\u001b[38;5;21mscatterplot\u001b[39m(\n\u001b[1;32m    607\u001b[0m     data\u001b[38;5;241m=\u001b[39m\u001b[38;5;28;01mNone\u001b[39;00m, \u001b[38;5;241m*\u001b[39m,\n\u001b[1;32m    608\u001b[0m     x\u001b[38;5;241m=\u001b[39m\u001b[38;5;28;01mNone\u001b[39;00m, y\u001b[38;5;241m=\u001b[39m\u001b[38;5;28;01mNone\u001b[39;00m, hue\u001b[38;5;241m=\u001b[39m\u001b[38;5;28;01mNone\u001b[39;00m, size\u001b[38;5;241m=\u001b[39m\u001b[38;5;28;01mNone\u001b[39;00m, style\u001b[38;5;241m=\u001b[39m\u001b[38;5;28;01mNone\u001b[39;00m,\n\u001b[0;32m   (...)\u001b[0m\n\u001b[1;32m    612\u001b[0m     \u001b[38;5;241m*\u001b[39m\u001b[38;5;241m*\u001b[39mkwargs\n\u001b[1;32m    613\u001b[0m ):\n\u001b[0;32m--> 615\u001b[0m     p \u001b[38;5;241m=\u001b[39m \u001b[43m_ScatterPlotter\u001b[49m\u001b[43m(\u001b[49m\n\u001b[1;32m    616\u001b[0m \u001b[43m        \u001b[49m\u001b[43mdata\u001b[49m\u001b[38;5;241;43m=\u001b[39;49m\u001b[43mdata\u001b[49m\u001b[43m,\u001b[49m\n\u001b[1;32m    617\u001b[0m \u001b[43m        \u001b[49m\u001b[43mvariables\u001b[49m\u001b[38;5;241;43m=\u001b[39;49m\u001b[38;5;28;43mdict\u001b[39;49m\u001b[43m(\u001b[49m\u001b[43mx\u001b[49m\u001b[38;5;241;43m=\u001b[39;49m\u001b[43mx\u001b[49m\u001b[43m,\u001b[49m\u001b[43m \u001b[49m\u001b[43my\u001b[49m\u001b[38;5;241;43m=\u001b[39;49m\u001b[43my\u001b[49m\u001b[43m,\u001b[49m\u001b[43m \u001b[49m\u001b[43mhue\u001b[49m\u001b[38;5;241;43m=\u001b[39;49m\u001b[43mhue\u001b[49m\u001b[43m,\u001b[49m\u001b[43m \u001b[49m\u001b[43msize\u001b[49m\u001b[38;5;241;43m=\u001b[39;49m\u001b[43msize\u001b[49m\u001b[43m,\u001b[49m\u001b[43m \u001b[49m\u001b[43mstyle\u001b[49m\u001b[38;5;241;43m=\u001b[39;49m\u001b[43mstyle\u001b[49m\u001b[43m)\u001b[49m\u001b[43m,\u001b[49m\n\u001b[1;32m    618\u001b[0m \u001b[43m        \u001b[49m\u001b[43mlegend\u001b[49m\u001b[38;5;241;43m=\u001b[39;49m\u001b[43mlegend\u001b[49m\n\u001b[1;32m    619\u001b[0m \u001b[43m    \u001b[49m\u001b[43m)\u001b[49m\n\u001b[1;32m    621\u001b[0m     p\u001b[38;5;241m.\u001b[39mmap_hue(palette\u001b[38;5;241m=\u001b[39mpalette, order\u001b[38;5;241m=\u001b[39mhue_order, norm\u001b[38;5;241m=\u001b[39mhue_norm)\n\u001b[1;32m    622\u001b[0m     p\u001b[38;5;241m.\u001b[39mmap_size(sizes\u001b[38;5;241m=\u001b[39msizes, order\u001b[38;5;241m=\u001b[39msize_order, norm\u001b[38;5;241m=\u001b[39msize_norm)\n",
      "File \u001b[0;32m~/software/miniconda3/envs/prot_env/lib/python3.9/site-packages/seaborn/relational.py:396\u001b[0m, in \u001b[0;36m_ScatterPlotter.__init__\u001b[0;34m(self, data, variables, legend)\u001b[0m\n\u001b[1;32m    387\u001b[0m \u001b[38;5;28;01mdef\u001b[39;00m\u001b[38;5;250m \u001b[39m\u001b[38;5;21m__init__\u001b[39m(\u001b[38;5;28mself\u001b[39m, \u001b[38;5;241m*\u001b[39m, data\u001b[38;5;241m=\u001b[39m\u001b[38;5;28;01mNone\u001b[39;00m, variables\u001b[38;5;241m=\u001b[39m{}, legend\u001b[38;5;241m=\u001b[39m\u001b[38;5;28;01mNone\u001b[39;00m):\n\u001b[1;32m    388\u001b[0m \n\u001b[1;32m    389\u001b[0m     \u001b[38;5;66;03m# TODO this is messy, we want the mapping to be agnostic about\u001b[39;00m\n\u001b[1;32m    390\u001b[0m     \u001b[38;5;66;03m# the kind of plot to draw, but for the time being we need to set\u001b[39;00m\n\u001b[1;32m    391\u001b[0m     \u001b[38;5;66;03m# this information so the SizeMapping can use it\u001b[39;00m\n\u001b[1;32m    392\u001b[0m     \u001b[38;5;28mself\u001b[39m\u001b[38;5;241m.\u001b[39m_default_size_range \u001b[38;5;241m=\u001b[39m (\n\u001b[1;32m    393\u001b[0m         np\u001b[38;5;241m.\u001b[39mr_[\u001b[38;5;241m.5\u001b[39m, \u001b[38;5;241m2\u001b[39m] \u001b[38;5;241m*\u001b[39m np\u001b[38;5;241m.\u001b[39msquare(mpl\u001b[38;5;241m.\u001b[39mrcParams[\u001b[38;5;124m\"\u001b[39m\u001b[38;5;124mlines.markersize\u001b[39m\u001b[38;5;124m\"\u001b[39m])\n\u001b[1;32m    394\u001b[0m     )\n\u001b[0;32m--> 396\u001b[0m     \u001b[38;5;28;43msuper\u001b[39;49m\u001b[43m(\u001b[49m\u001b[43m)\u001b[49m\u001b[38;5;241;43m.\u001b[39;49m\u001b[38;5;21;43m__init__\u001b[39;49m\u001b[43m(\u001b[49m\u001b[43mdata\u001b[49m\u001b[38;5;241;43m=\u001b[39;49m\u001b[43mdata\u001b[49m\u001b[43m,\u001b[49m\u001b[43m \u001b[49m\u001b[43mvariables\u001b[49m\u001b[38;5;241;43m=\u001b[39;49m\u001b[43mvariables\u001b[49m\u001b[43m)\u001b[49m\n\u001b[1;32m    398\u001b[0m     \u001b[38;5;28mself\u001b[39m\u001b[38;5;241m.\u001b[39mlegend \u001b[38;5;241m=\u001b[39m legend\n",
      "File \u001b[0;32m~/software/miniconda3/envs/prot_env/lib/python3.9/site-packages/seaborn/_base.py:634\u001b[0m, in \u001b[0;36mVectorPlotter.__init__\u001b[0;34m(self, data, variables)\u001b[0m\n\u001b[1;32m    629\u001b[0m \u001b[38;5;66;03m# var_ordered is relevant only for categorical axis variables, and may\u001b[39;00m\n\u001b[1;32m    630\u001b[0m \u001b[38;5;66;03m# be better handled by an internal axis information object that tracks\u001b[39;00m\n\u001b[1;32m    631\u001b[0m \u001b[38;5;66;03m# such information and is set up by the scale_* methods. The analogous\u001b[39;00m\n\u001b[1;32m    632\u001b[0m \u001b[38;5;66;03m# information for numeric axes would be information about log scales.\u001b[39;00m\n\u001b[1;32m    633\u001b[0m \u001b[38;5;28mself\u001b[39m\u001b[38;5;241m.\u001b[39m_var_ordered \u001b[38;5;241m=\u001b[39m {\u001b[38;5;124m\"\u001b[39m\u001b[38;5;124mx\u001b[39m\u001b[38;5;124m\"\u001b[39m: \u001b[38;5;28;01mFalse\u001b[39;00m, \u001b[38;5;124m\"\u001b[39m\u001b[38;5;124my\u001b[39m\u001b[38;5;124m\"\u001b[39m: \u001b[38;5;28;01mFalse\u001b[39;00m}  \u001b[38;5;66;03m# alt., used DefaultDict\u001b[39;00m\n\u001b[0;32m--> 634\u001b[0m \u001b[38;5;28;43mself\u001b[39;49m\u001b[38;5;241;43m.\u001b[39;49m\u001b[43massign_variables\u001b[49m\u001b[43m(\u001b[49m\u001b[43mdata\u001b[49m\u001b[43m,\u001b[49m\u001b[43m \u001b[49m\u001b[43mvariables\u001b[49m\u001b[43m)\u001b[49m\n\u001b[1;32m    636\u001b[0m \u001b[38;5;66;03m# TODO Lots of tests assume that these are called to initialize the\u001b[39;00m\n\u001b[1;32m    637\u001b[0m \u001b[38;5;66;03m# mappings to default values on class initialization. I'd prefer to\u001b[39;00m\n\u001b[1;32m    638\u001b[0m \u001b[38;5;66;03m# move away from that and only have a mapping when explicitly called.\u001b[39;00m\n\u001b[1;32m    639\u001b[0m \u001b[38;5;28;01mfor\u001b[39;00m var \u001b[38;5;129;01min\u001b[39;00m [\u001b[38;5;124m\"\u001b[39m\u001b[38;5;124mhue\u001b[39m\u001b[38;5;124m\"\u001b[39m, \u001b[38;5;124m\"\u001b[39m\u001b[38;5;124msize\u001b[39m\u001b[38;5;124m\"\u001b[39m, \u001b[38;5;124m\"\u001b[39m\u001b[38;5;124mstyle\u001b[39m\u001b[38;5;124m\"\u001b[39m]:\n",
      "File \u001b[0;32m~/software/miniconda3/envs/prot_env/lib/python3.9/site-packages/seaborn/_base.py:679\u001b[0m, in \u001b[0;36mVectorPlotter.assign_variables\u001b[0;34m(self, data, variables)\u001b[0m\n\u001b[1;32m    674\u001b[0m \u001b[38;5;28;01melse\u001b[39;00m:\n\u001b[1;32m    675\u001b[0m     \u001b[38;5;66;03m# When dealing with long-form input, use the newer PlotData\u001b[39;00m\n\u001b[1;32m    676\u001b[0m     \u001b[38;5;66;03m# object (internal but introduced for the objects interface)\u001b[39;00m\n\u001b[1;32m    677\u001b[0m     \u001b[38;5;66;03m# to centralize / standardize data consumption logic.\u001b[39;00m\n\u001b[1;32m    678\u001b[0m     \u001b[38;5;28mself\u001b[39m\u001b[38;5;241m.\u001b[39minput_format \u001b[38;5;241m=\u001b[39m \u001b[38;5;124m\"\u001b[39m\u001b[38;5;124mlong\u001b[39m\u001b[38;5;124m\"\u001b[39m\n\u001b[0;32m--> 679\u001b[0m     plot_data \u001b[38;5;241m=\u001b[39m \u001b[43mPlotData\u001b[49m\u001b[43m(\u001b[49m\u001b[43mdata\u001b[49m\u001b[43m,\u001b[49m\u001b[43m \u001b[49m\u001b[43mvariables\u001b[49m\u001b[43m)\u001b[49m\n\u001b[1;32m    680\u001b[0m     frame \u001b[38;5;241m=\u001b[39m plot_data\u001b[38;5;241m.\u001b[39mframe\n\u001b[1;32m    681\u001b[0m     names \u001b[38;5;241m=\u001b[39m plot_data\u001b[38;5;241m.\u001b[39mnames\n",
      "File \u001b[0;32m~/software/miniconda3/envs/prot_env/lib/python3.9/site-packages/seaborn/_core/data.py:58\u001b[0m, in \u001b[0;36mPlotData.__init__\u001b[0;34m(self, data, variables)\u001b[0m\n\u001b[1;32m     51\u001b[0m \u001b[38;5;28;01mdef\u001b[39;00m\u001b[38;5;250m \u001b[39m\u001b[38;5;21m__init__\u001b[39m(\n\u001b[1;32m     52\u001b[0m     \u001b[38;5;28mself\u001b[39m,\n\u001b[1;32m     53\u001b[0m     data: DataSource,\n\u001b[1;32m     54\u001b[0m     variables: \u001b[38;5;28mdict\u001b[39m[\u001b[38;5;28mstr\u001b[39m, VariableSpec],\n\u001b[1;32m     55\u001b[0m ):\n\u001b[1;32m     57\u001b[0m     data \u001b[38;5;241m=\u001b[39m handle_data_source(data)\n\u001b[0;32m---> 58\u001b[0m     frame, names, ids \u001b[38;5;241m=\u001b[39m \u001b[38;5;28;43mself\u001b[39;49m\u001b[38;5;241;43m.\u001b[39;49m\u001b[43m_assign_variables\u001b[49m\u001b[43m(\u001b[49m\u001b[43mdata\u001b[49m\u001b[43m,\u001b[49m\u001b[43m \u001b[49m\u001b[43mvariables\u001b[49m\u001b[43m)\u001b[49m\n\u001b[1;32m     60\u001b[0m     \u001b[38;5;28mself\u001b[39m\u001b[38;5;241m.\u001b[39mframe \u001b[38;5;241m=\u001b[39m frame\n\u001b[1;32m     61\u001b[0m     \u001b[38;5;28mself\u001b[39m\u001b[38;5;241m.\u001b[39mnames \u001b[38;5;241m=\u001b[39m names\n",
      "File \u001b[0;32m~/software/miniconda3/envs/prot_env/lib/python3.9/site-packages/seaborn/_core/data.py:265\u001b[0m, in \u001b[0;36mPlotData._assign_variables\u001b[0;34m(self, data, variables)\u001b[0m\n\u001b[1;32m    260\u001b[0m             ids[key] \u001b[38;5;241m=\u001b[39m \u001b[38;5;28mid\u001b[39m(val)\n\u001b[1;32m    262\u001b[0m \u001b[38;5;66;03m# Construct a tidy plot DataFrame. This will convert a number of\u001b[39;00m\n\u001b[1;32m    263\u001b[0m \u001b[38;5;66;03m# types automatically, aligning on index in case of pandas objects\u001b[39;00m\n\u001b[1;32m    264\u001b[0m \u001b[38;5;66;03m# TODO Note: this fails when variable specs *only* have scalars!\u001b[39;00m\n\u001b[0;32m--> 265\u001b[0m frame \u001b[38;5;241m=\u001b[39m \u001b[43mpd\u001b[49m\u001b[38;5;241;43m.\u001b[39;49m\u001b[43mDataFrame\u001b[49m\u001b[43m(\u001b[49m\u001b[43mplot_data\u001b[49m\u001b[43m)\u001b[49m\n\u001b[1;32m    267\u001b[0m \u001b[38;5;28;01mreturn\u001b[39;00m frame, names, ids\n",
      "File \u001b[0;32m~/software/miniconda3/envs/prot_env/lib/python3.9/site-packages/pandas/core/frame.py:778\u001b[0m, in \u001b[0;36mDataFrame.__init__\u001b[0;34m(self, data, index, columns, dtype, copy)\u001b[0m\n\u001b[1;32m    772\u001b[0m     mgr \u001b[38;5;241m=\u001b[39m \u001b[38;5;28mself\u001b[39m\u001b[38;5;241m.\u001b[39m_init_mgr(\n\u001b[1;32m    773\u001b[0m         data, axes\u001b[38;5;241m=\u001b[39m{\u001b[38;5;124m\"\u001b[39m\u001b[38;5;124mindex\u001b[39m\u001b[38;5;124m\"\u001b[39m: index, \u001b[38;5;124m\"\u001b[39m\u001b[38;5;124mcolumns\u001b[39m\u001b[38;5;124m\"\u001b[39m: columns}, dtype\u001b[38;5;241m=\u001b[39mdtype, copy\u001b[38;5;241m=\u001b[39mcopy\n\u001b[1;32m    774\u001b[0m     )\n\u001b[1;32m    776\u001b[0m \u001b[38;5;28;01melif\u001b[39;00m \u001b[38;5;28misinstance\u001b[39m(data, \u001b[38;5;28mdict\u001b[39m):\n\u001b[1;32m    777\u001b[0m     \u001b[38;5;66;03m# GH#38939 de facto copy defaults to False only in non-dict cases\u001b[39;00m\n\u001b[0;32m--> 778\u001b[0m     mgr \u001b[38;5;241m=\u001b[39m \u001b[43mdict_to_mgr\u001b[49m\u001b[43m(\u001b[49m\u001b[43mdata\u001b[49m\u001b[43m,\u001b[49m\u001b[43m \u001b[49m\u001b[43mindex\u001b[49m\u001b[43m,\u001b[49m\u001b[43m \u001b[49m\u001b[43mcolumns\u001b[49m\u001b[43m,\u001b[49m\u001b[43m \u001b[49m\u001b[43mdtype\u001b[49m\u001b[38;5;241;43m=\u001b[39;49m\u001b[43mdtype\u001b[49m\u001b[43m,\u001b[49m\u001b[43m \u001b[49m\u001b[43mcopy\u001b[49m\u001b[38;5;241;43m=\u001b[39;49m\u001b[43mcopy\u001b[49m\u001b[43m,\u001b[49m\u001b[43m \u001b[49m\u001b[43mtyp\u001b[49m\u001b[38;5;241;43m=\u001b[39;49m\u001b[43mmanager\u001b[49m\u001b[43m)\u001b[49m\n\u001b[1;32m    779\u001b[0m \u001b[38;5;28;01melif\u001b[39;00m \u001b[38;5;28misinstance\u001b[39m(data, ma\u001b[38;5;241m.\u001b[39mMaskedArray):\n\u001b[1;32m    780\u001b[0m     \u001b[38;5;28;01mfrom\u001b[39;00m\u001b[38;5;250m \u001b[39m\u001b[38;5;21;01mnumpy\u001b[39;00m\u001b[38;5;21;01m.\u001b[39;00m\u001b[38;5;21;01mma\u001b[39;00m\u001b[38;5;250m \u001b[39m\u001b[38;5;28;01mimport\u001b[39;00m mrecords\n",
      "File \u001b[0;32m~/software/miniconda3/envs/prot_env/lib/python3.9/site-packages/pandas/core/internals/construction.py:503\u001b[0m, in \u001b[0;36mdict_to_mgr\u001b[0;34m(data, index, columns, dtype, typ, copy)\u001b[0m\n\u001b[1;32m    499\u001b[0m     \u001b[38;5;28;01melse\u001b[39;00m:\n\u001b[1;32m    500\u001b[0m         \u001b[38;5;66;03m# dtype check to exclude e.g. range objects, scalars\u001b[39;00m\n\u001b[1;32m    501\u001b[0m         arrays \u001b[38;5;241m=\u001b[39m [x\u001b[38;5;241m.\u001b[39mcopy() \u001b[38;5;28;01mif\u001b[39;00m \u001b[38;5;28mhasattr\u001b[39m(x, \u001b[38;5;124m\"\u001b[39m\u001b[38;5;124mdtype\u001b[39m\u001b[38;5;124m\"\u001b[39m) \u001b[38;5;28;01melse\u001b[39;00m x \u001b[38;5;28;01mfor\u001b[39;00m x \u001b[38;5;129;01min\u001b[39;00m arrays]\n\u001b[0;32m--> 503\u001b[0m \u001b[38;5;28;01mreturn\u001b[39;00m \u001b[43marrays_to_mgr\u001b[49m\u001b[43m(\u001b[49m\u001b[43marrays\u001b[49m\u001b[43m,\u001b[49m\u001b[43m \u001b[49m\u001b[43mcolumns\u001b[49m\u001b[43m,\u001b[49m\u001b[43m \u001b[49m\u001b[43mindex\u001b[49m\u001b[43m,\u001b[49m\u001b[43m \u001b[49m\u001b[43mdtype\u001b[49m\u001b[38;5;241;43m=\u001b[39;49m\u001b[43mdtype\u001b[49m\u001b[43m,\u001b[49m\u001b[43m \u001b[49m\u001b[43mtyp\u001b[49m\u001b[38;5;241;43m=\u001b[39;49m\u001b[43mtyp\u001b[49m\u001b[43m,\u001b[49m\u001b[43m \u001b[49m\u001b[43mconsolidate\u001b[49m\u001b[38;5;241;43m=\u001b[39;49m\u001b[43mcopy\u001b[49m\u001b[43m)\u001b[49m\n",
      "File \u001b[0;32m~/software/miniconda3/envs/prot_env/lib/python3.9/site-packages/pandas/core/internals/construction.py:114\u001b[0m, in \u001b[0;36marrays_to_mgr\u001b[0;34m(arrays, columns, index, dtype, verify_integrity, typ, consolidate)\u001b[0m\n\u001b[1;32m    111\u001b[0m \u001b[38;5;28;01mif\u001b[39;00m verify_integrity:\n\u001b[1;32m    112\u001b[0m     \u001b[38;5;66;03m# figure out the index, if necessary\u001b[39;00m\n\u001b[1;32m    113\u001b[0m     \u001b[38;5;28;01mif\u001b[39;00m index \u001b[38;5;129;01mis\u001b[39;00m \u001b[38;5;28;01mNone\u001b[39;00m:\n\u001b[0;32m--> 114\u001b[0m         index \u001b[38;5;241m=\u001b[39m \u001b[43m_extract_index\u001b[49m\u001b[43m(\u001b[49m\u001b[43marrays\u001b[49m\u001b[43m)\u001b[49m\n\u001b[1;32m    115\u001b[0m     \u001b[38;5;28;01melse\u001b[39;00m:\n\u001b[1;32m    116\u001b[0m         index \u001b[38;5;241m=\u001b[39m ensure_index(index)\n",
      "File \u001b[0;32m~/software/miniconda3/envs/prot_env/lib/python3.9/site-packages/pandas/core/internals/construction.py:690\u001b[0m, in \u001b[0;36m_extract_index\u001b[0;34m(data)\u001b[0m\n\u001b[1;32m    685\u001b[0m     \u001b[38;5;28;01mif\u001b[39;00m lengths[\u001b[38;5;241m0\u001b[39m] \u001b[38;5;241m!=\u001b[39m \u001b[38;5;28mlen\u001b[39m(index):\n\u001b[1;32m    686\u001b[0m         msg \u001b[38;5;241m=\u001b[39m (\n\u001b[1;32m    687\u001b[0m             \u001b[38;5;124mf\u001b[39m\u001b[38;5;124m\"\u001b[39m\u001b[38;5;124marray length \u001b[39m\u001b[38;5;132;01m{\u001b[39;00mlengths[\u001b[38;5;241m0\u001b[39m]\u001b[38;5;132;01m}\u001b[39;00m\u001b[38;5;124m does not match index \u001b[39m\u001b[38;5;124m\"\u001b[39m\n\u001b[1;32m    688\u001b[0m             \u001b[38;5;124mf\u001b[39m\u001b[38;5;124m\"\u001b[39m\u001b[38;5;124mlength \u001b[39m\u001b[38;5;132;01m{\u001b[39;00m\u001b[38;5;28mlen\u001b[39m(index)\u001b[38;5;132;01m}\u001b[39;00m\u001b[38;5;124m\"\u001b[39m\n\u001b[1;32m    689\u001b[0m         )\n\u001b[0;32m--> 690\u001b[0m         \u001b[38;5;28;01mraise\u001b[39;00m \u001b[38;5;167;01mValueError\u001b[39;00m(msg)\n\u001b[1;32m    691\u001b[0m \u001b[38;5;28;01melse\u001b[39;00m:\n\u001b[1;32m    692\u001b[0m     index \u001b[38;5;241m=\u001b[39m default_index(lengths[\u001b[38;5;241m0\u001b[39m])\n",
      "\u001b[0;31mValueError\u001b[0m: array length 1219 does not match index length 1249"
     ]
    },
    {
     "data": {
      "text/plain": [
       "<Figure size 1600x1000 with 0 Axes>"
      ]
     },
     "metadata": {},
     "output_type": "display_data"
    }
   ],
   "source": [
    "# ------------------------------------------------------\n",
    "# 🌀 4. Cluster Visualization Example\n",
    "# ------------------------------------------------------\n",
    "\n",
    "# Visualize clustering using KMeans on combined PCA-reduced features\n",
    "dataset_pca.plot_kmeans(n_clusters=2, attribute='Class', embedding=True, attention_weights=True)\n",
    "\n",
    "# Visualize clustering on t-SNE-reduced embeddings\n",
    "dataset_tsne.plot_kmeans(n_clusters=2, attribute='Class', embedding=True, attention_weights=False)\n",
    "\n",
    "# ------------------------------------------------------\n",
    "# 📌 Notes:\n",
    "# ------------------------------------------------------\n",
    "# - reduce_method: Choose 'pca', 'tsne', or None\n",
    "# - pca_method: Use 'threshold' for 95% variance, 'derivative' for elbow\n",
    "# - random_projection_dim: Optional projection to speed up PCA on high-dim attention\n",
    "# - get PCA object using: PCA().fit(data)\n",
    "# - Use PCAExplainability for detailed analysis of components and features\n",
    "# - Use WrappedProteinDataset as input for training or further analysis\n",
    "\n",
    "print(\"✅ Demo complete.\")"
   ]
  }
 ],
 "metadata": {
  "kernelspec": {
   "display_name": "prot_env",
   "language": "python",
   "name": "python3"
  },
  "language_info": {
   "codemirror_mode": {
    "name": "ipython",
    "version": 3
   },
   "file_extension": ".py",
   "mimetype": "text/x-python",
   "name": "python",
   "nbconvert_exporter": "python",
   "pygments_lexer": "ipython3",
   "version": "3.9.21"
  }
 },
 "nbformat": 4,
 "nbformat_minor": 2
}
