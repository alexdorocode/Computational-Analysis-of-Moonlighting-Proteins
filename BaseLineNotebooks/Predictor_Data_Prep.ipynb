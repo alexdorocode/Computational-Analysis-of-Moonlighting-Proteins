{
  "nbformat": 4,
  "nbformat_minor": 0,
  "metadata": {
    "colab": {
      "provenance": []
    },
    "kernelspec": {
      "name": "python3",
      "display_name": "Python 3"
    },
    "language_info": {
      "name": "python"
    }
  },
  "cells": [
    {
      "cell_type": "markdown",
      "source": [
        "## **Generación del conjunto de datos final**\n",
        "Este notebook está diseñado para preparar un conjunto de datos final que combina proteínas moonlighting y no moonlighting. Este conjunto se utilizará posteriormente para la extracción de embeddings y el entrenamiento de modelos predictivos de clasificación."
      ],
      "metadata": {
        "id": "lGagQ8EkkOeJ"
      }
    },
    {
      "cell_type": "markdown",
      "source": [
        "## Montaje de Google Drive\n",
        "Montamos Google Drive para acceder a los archivos de datos almacenados.\n"
      ],
      "metadata": {
        "id": "LNTzCEof10te"
      }
    },
    {
      "cell_type": "code",
      "source": [
        "from google.colab import drive\n",
        "drive.mount('/content/drive')"
      ],
      "metadata": {
        "colab": {
          "base_uri": "https://localhost:8080/"
        },
        "id": "VApy4GMjlCGW",
        "outputId": "89bb8f3b-e95c-4c12-92f8-14d7daf841fe"
      },
      "execution_count": null,
      "outputs": [
        {
          "output_type": "stream",
          "name": "stdout",
          "text": [
            "Mounted at /content/drive\n"
          ]
        }
      ]
    },
    {
      "cell_type": "markdown",
      "source": [
        "## Carga de Datos\n",
        "Cargamos los conjuntos de datos de proteínas moonlighting y no moonlighting desde Google Drive, los cuales incluyen métricas y etiquetas esenciales para el análisis."
      ],
      "metadata": {
        "id": "uG-c77fl2BVs"
      }
    },
    {
      "cell_type": "code",
      "source": [
        "import pandas as pd\n",
        "\n",
        "# Cargamos los datos de proteínas moonlighting.\n",
        "moon_dataset = pd.read_csv('/content/drive/My Drive/moon_stats_dataset.csv')\n",
        "\n",
        "# Cargamos los datos de proteínas no moonlighting, seleccionadas por presentar\n",
        "# baja distancia entre términos GO.\n",
        "top700_dataset = pd.read_csv('/content/drive/My Drive/top700_stats_dataset.csv')"
      ],
      "metadata": {
        "id": "Y6wRBZ6ilKpk"
      },
      "execution_count": null,
      "outputs": []
    },
    {
      "cell_type": "code",
      "source": [
        "print(moon_dataset.shape)\n",
        "print(top700_dataset.shape)"
      ],
      "metadata": {
        "colab": {
          "base_uri": "https://localhost:8080/"
        },
        "id": "x2GluvcRPsIb",
        "outputId": "7a9270a2-1f1f-40aa-c385-1cf64c64d280"
      },
      "execution_count": null,
      "outputs": [
        {
          "output_type": "stream",
          "name": "stdout",
          "text": [
            "(561, 17)\n",
            "(700, 17)\n"
          ]
        }
      ]
    },
    {
      "cell_type": "markdown",
      "source": [
        "## Combinación de conjuntos de datos\n",
        "Unimos ambos conjuntos de datos en un solo dataset. Esto facilita la implementación de modelos predictivos al disponer de un único DataFrame con todas las entradas necesarias."
      ],
      "metadata": {
        "id": "i9L-JVijtXM5"
      }
    },
    {
      "cell_type": "code",
      "source": [
        "# Unimos los dos DataFrames.\n",
        "combined_df = pd.concat([moon_dataset, top700_dataset], axis=0)\n",
        "\n",
        "# Resetemos el índice del nuevo DataFrame para asegurar la consistencia.\n",
        "combined_df.reset_index(drop=True, inplace=True)\n",
        "\n",
        "# Guardamos un nuevo archivo CSV y visualizamos los resultados para\n",
        "# verificar la correcta combinación.\n",
        "combined_df.to_csv('/content/drive/My Drive/predictor_dataset.csv', index=False)\n",
        "print(combined_df)"
      ],
      "metadata": {
        "colab": {
          "base_uri": "https://localhost:8080/"
        },
        "id": "NSZBWKfzhbE7",
        "outputId": "a9439e50-2aa0-410a-d740-60b9eb28e4b1"
      },
      "execution_count": null,
      "outputs": [
        {
          "output_type": "stream",
          "name": "stdout",
          "text": [
            "     UniProt IDs                                             PDB ID  \\\n",
            "0         P09169                                               1I78   \n",
            "1         Q9Y2X8                                                NaN   \n",
            "2         Q05086  1C4Z; 1D5F; 1EQX; 2KR1; 4GIZ; 4XR8; 6SJV; 6SLM...   \n",
            "3         Q9Y6X0                                                NaN   \n",
            "4         Q8BH75                                               2OGB   \n",
            "...          ...                                                ...   \n",
            "1256      O95429                                         1M62; 1M7K   \n",
            "1257      P0AFX7                                   1OR7; 1YFN; 3M4W   \n",
            "1258      O95704                                         2DYQ; 2YSC   \n",
            "1259      P0AC19                                               1B9L   \n",
            "1260      O95071  1I2T; 2QHO; 3PT3; 8BJA; 8C06; 8C07; 8D4X; 8E0Q...   \n",
            "\n",
            "                                              Gene Name  \\\n",
            "0     {'Name': 'ompT', 'OrderedLocusNames': ['b0565'...   \n",
            "1            {'Name': 'UBE2D4', 'Synonyms': ['UBCH5D']}   \n",
            "2     {'Name': 'UBE3A {ECO:0000312|HGNC:HGNC:12496}'...   \n",
            "3          {'Name': 'SETBP1', 'Synonyms': ['KIAA0437']}   \n",
            "4      {'Name': 'Rnf41', 'Synonyms': ['Flrf', 'Nrdp1']}   \n",
            "...                                                 ...   \n",
            "1256             {'Name': 'BAG4', 'Synonyms': ['SODD']}   \n",
            "1257  {'Name': 'rseA', 'Synonyms': ['mclA', 'yfiJ'],...   \n",
            "1258  {'Name': 'APBB3 {ECO:0000312|HGNC:HGNC:20708}'...   \n",
            "1259  {'Name': 'folX', 'OrderedLocusNames': ['b2303'...   \n",
            "1260  {'Name': 'UBR5', 'Synonyms': ['EDD', 'EDD1', '...   \n",
            "\n",
            "                                           Protein Name  \\\n",
            "0                                            Protease 7   \n",
            "1                    Ubiquitin-conjugating enzyme E2 D4   \n",
            "2                          Ubiquitin-protein ligase E3A   \n",
            "3                                   SET-binding protein   \n",
            "4                     E3 ubiquitin-protein ligase NRDP1   \n",
            "...                                                 ...   \n",
            "1256         BAG family molecular chaperone regulator 4   \n",
            "1257                           Anti-sigma-E factor RseA   \n",
            "1258  Amyloid-beta A4 precursor protein-binding fami...   \n",
            "1259  Dihydroneopterin triphosphate 2'-epimerase {EC...   \n",
            "1260                   E3 ubiquitin-protein ligase UBR5   \n",
            "\n",
            "                                    Amino Acid Sequence  \\\n",
            "0     MRAKLLGIVLTTPIAISSFASTETLSFTPDNINADISLGTLSGKTK...   \n",
            "1     MALKRIQKELTDLQRDPPAQCSAGPVGDDLFHWQATIMGPNDSPYQ...   \n",
            "2     MEKLHQCYWKSGEPQSDDIEASRMKRAAAKHLIERYYHQLTEGCGN...   \n",
            "3     MESRETLSSSRQRGGESDFLPVSSAKPPAAPGCAGEPLLSTPGPGK...   \n",
            "4     MGYDVTRFQGDVDEDLICPICSGVLEEPVQAPHCEHAFCNACITQW...   \n",
            "...                                                 ...   \n",
            "1256  MSALRRSGYGPSDGPSYGRYYGPGGGDVPVHPPPPLYPLRPEPPQP...   \n",
            "1257  MQKEQLSALMDGETLDSELLNELAHNPEMQKTWESYHLIRDSMRGD...   \n",
            "1258  MLGKDYMLAIILVNCDDDLWGDHSLEVEAGLPPGWRKIHDAAGTYY...   \n",
            "1259  MAQPAAIIRIKNLRLRTFIGIKEEEINNRQDIVINVTIHYPADKAR...   \n",
            "1260  MTSIHFVVHPLPGTEDQLNDRLREVSEKLNKYNLNSHPPLNVLEQA...   \n",
            "\n",
            "                       Organism Name    Status  Protein Existence  \\\n",
            "0     Escherichia coli (strain K12).  Reviewed                1.0   \n",
            "1              Homo sapiens (Human).  Reviewed                1.0   \n",
            "2              Homo sapiens (Human).  Reviewed                1.0   \n",
            "3              Homo sapiens (Human).  Reviewed                1.0   \n",
            "4              Mus musculus (Mouse).  Reviewed                1.0   \n",
            "...                              ...       ...                ...   \n",
            "1256           Homo sapiens (Human).  Reviewed                1.0   \n",
            "1257  Escherichia coli (strain K12).  Reviewed                1.0   \n",
            "1258           Homo sapiens (Human).  Reviewed                1.0   \n",
            "1259  Escherichia coli (strain K12).  Reviewed                1.0   \n",
            "1260           Homo sapiens (Human).  Reviewed                1.0   \n",
            "\n",
            "                                            GO BP Terms  \\\n",
            "0                              GO:0006508 - proteolysis   \n",
            "1     GO:0070979 - protein K11-linked ubiquitination...   \n",
            "2     GO:0030521 - androgen receptor signaling pathw...   \n",
            "3     GO:0006355 - regulation of DNA-templated trans...   \n",
            "4     GO:0006914 - autophagy; GO:0097191 - extrinsic...   \n",
            "...                                                 ...   \n",
            "1256  GO:0071364 - cellular response to epidermal gr...   \n",
            "1257  GO:0045892 - negative regulation of DNA-templa...   \n",
            "1258  GO:0050714 - positive regulation of protein se...   \n",
            "1259  GO:0006760 - folic acid-containing compound me...   \n",
            "1260  GO:0006974 - DNA damage response; GO:0006281 -...   \n",
            "\n",
            "                                            GO CC Terms  \\\n",
            "0                      GO:0009279 - cell outer membrane   \n",
            "1     GO:0005634 - nucleus; GO:0000151 - ubiquitin l...   \n",
            "2     GO:0005829 - cytosol; GO:0098978 - glutamaterg...   \n",
            "3     GO:0005829 - cytosol; GO:0016604 - nuclear bod...   \n",
            "4     GO:0071782 - endoplasmic reticulum tubular net...   \n",
            "...                                                 ...   \n",
            "1256  GO:0005737 - cytoplasm; GO:0005829 - cytosol; ...   \n",
            "1257  GO:0005886 - plasma membrane; GO:1903865 - sig...   \n",
            "1258  GO:0015629 - actin cytoskeleton; GO:0005737 - ...   \n",
            "1259       GO:0005737 - cytoplasm; GO:0005829 - cytosol   \n",
            "1260  GO:0005737 - cytoplasm; GO:0005829 - cytosol; ...   \n",
            "\n",
            "                                            GO MF Terms  Max_MBL_CC  \\\n",
            "0     GO:0004190 - aspartic-type endopeptidase activ...         0.0   \n",
            "1     GO:0005524 - ATP binding; GO:0061631 - ubiquit...         0.0   \n",
            "2     GO:0046872 - metal ion binding; GO:0003713 - t...         0.0   \n",
            "3     GO:0003677 - DNA binding; GO:0042800 - histone...         2.0   \n",
            "4     GO:0005128 - erythropoietin receptor binding; ...         0.0   \n",
            "...                                                 ...         ...   \n",
            "1256  GO:0000774 - adenyl-nucleotide exchange factor...         6.0   \n",
            "1257  GO:0060090 - molecular adaptor activity; GO:00...         6.0   \n",
            "1258  GO:0001540 - amyloid-beta binding; GO:0050750 ...         6.0   \n",
            "1259  GO:0004150 - dihydroneopterin aldolase activit...         0.0   \n",
            "1260  GO:0003723 - RNA binding; GO:0043130 - ubiquit...         6.0   \n",
            "\n",
            "                                       CC_Pairs_Max_MBL  Max_MBL_MF  \\\n",
            "0                                               No data         1.0   \n",
            "1                                               No data         1.0   \n",
            "2                                               No data         1.0   \n",
            "3     [('GO:0005654', 'GO:0016604'), ('GO:0005829', ...         0.0   \n",
            "4                                               No data         2.0   \n",
            "...                                                 ...         ...   \n",
            "1256                     [('GO:0005634', 'GO:0005886')]         0.0   \n",
            "1257                     [('GO:0005886', 'GO:1903865')]         4.0   \n",
            "1258  [('GO:0015629', 'GO:0016020'), ('GO:0015629', ...         0.0   \n",
            "1259                                            No data         6.0   \n",
            "1260                     [('GO:0005634', 'GO:0032991')]         1.0   \n",
            "\n",
            "                    MF_Pairs_Max_MBL  Highest_MBL  Class  \n",
            "0     [('GO:0004175', 'GO:0004252')]          1.0   True  \n",
            "1     [('GO:0004842', 'GO:0061631')]          1.0   True  \n",
            "2     [('GO:0004842', 'GO:0061630')]          1.0   True  \n",
            "3                            No data          2.0   True  \n",
            "4     [('GO:0005128', 'GO:0005135')]          2.0   True  \n",
            "...                              ...          ...    ...  \n",
            "1256                         No data          6.0  False  \n",
            "1257  [('GO:0060090', 'GO:0016989')]          6.0  False  \n",
            "1258                         No data          6.0  False  \n",
            "1259  [('GO:0008719', 'GO:0042802')]          6.0  False  \n",
            "1260  [('GO:0061630', 'GO:0034450')]          6.0  False  \n",
            "\n",
            "[1261 rows x 17 columns]\n"
          ]
        }
      ]
    }
  ]
}